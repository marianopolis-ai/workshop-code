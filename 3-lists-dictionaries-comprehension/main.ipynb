{
    "cells": [
        {
            "cell_type": "markdown",
            "source": [
                "# Dictionaries\n",
                "We'll cover\n",
                "- Creation of dictionaries\n",
                "- Indexing\n",
                "- Setting\n",
                "- Methods\n",
                "- Membership"
            ],
            "metadata": {}
        },
        {
            "cell_type": "code",
            "execution_count": null,
            "source": [
                "# creation\n",
                "a = dict()"
            ],
            "outputs": [],
            "metadata": {}
        },
        {
            "cell_type": "code",
            "execution_count": 2,
            "source": [
                "# creation (alternative)\n",
                "a = {'hello' : 'hi'}"
            ],
            "outputs": [],
            "metadata": {}
        },
        {
            "cell_type": "code",
            "execution_count": 3,
            "source": [
                "# indexing\n",
                "a['hello']"
            ],
            "outputs": [
                {
                    "output_type": "execute_result",
                    "data": {
                        "text/plain": [
                            "'hi'"
                        ]
                    },
                    "metadata": {},
                    "execution_count": 3
                }
            ],
            "metadata": {}
        },
        {
            "cell_type": "code",
            "execution_count": 4,
            "source": [
                "# setting\n",
                "a = {'hello' : 'hi'}\n",
                "a['hello'] = 'ho'\n",
                "a['hello']"
            ],
            "outputs": [
                {
                    "output_type": "execute_result",
                    "data": {
                        "text/plain": [
                            "'ho'"
                        ]
                    },
                    "metadata": {},
                    "execution_count": 4
                }
            ],
            "metadata": {}
        },
        {
            "cell_type": "code",
            "execution_count": 16,
            "source": [
                "# more complex initialization\n",
                "dictionary = {\n",
                "    'apple' : 'A really nice fruit that is round and red',\n",
                "    'orange' : 'a fruit i need to peel', \n",
                "    'pamplemousse' : 'lmao' \n",
                "}"
            ],
            "outputs": [],
            "metadata": {}
        },
        {
            "cell_type": "code",
            "execution_count": 17,
            "source": [
                "# methods() - .keys()\n",
                "dictionary.keys()"
            ],
            "outputs": [
                {
                    "output_type": "execute_result",
                    "data": {
                        "text/plain": [
                            "dict_keys(['apple', 'orange', 'pamplemousse'])"
                        ]
                    },
                    "metadata": {},
                    "execution_count": 17
                }
            ],
            "metadata": {}
        },
        {
            "cell_type": "code",
            "execution_count": 18,
            "source": [
                "# methods() - .values()\n",
                "dictionary.values()"
            ],
            "outputs": [
                {
                    "output_type": "execute_result",
                    "data": {
                        "text/plain": [
                            "dict_values(['A really nice fruit that is round and red', 'a fruit i need to peel', 'lmao'])"
                        ]
                    },
                    "metadata": {},
                    "execution_count": 18
                }
            ],
            "metadata": {}
        },
        {
            "cell_type": "code",
            "execution_count": 19,
            "source": [
                "# methods() - .items()\n",
                "dictionary.items()"
            ],
            "outputs": [
                {
                    "output_type": "execute_result",
                    "data": {
                        "text/plain": [
                            "dict_items([('apple', 'A really nice fruit that is round and red'), ('orange', 'a fruit i need to peel'), ('pamplemousse', 'lmao')])"
                        ]
                    },
                    "metadata": {},
                    "execution_count": 19
                }
            ],
            "metadata": {}
        },
        {
            "cell_type": "code",
            "execution_count": 6,
            "source": [
                "# membership\n",
                "another_dict = {'a' : 23,'b' : 25}\n",
                "print('c' in another_dict) # False\n",
                "print('a' in another_dict) # True"
            ],
            "outputs": [
                {
                    "output_type": "stream",
                    "name": "stdout",
                    "text": [
                        "False\n",
                        "True\n"
                    ]
                }
            ],
            "metadata": {}
        },
        {
            "cell_type": "markdown",
            "source": [
                "# List Comprehension and Dictionary Comprehension\n",
                "We'll also cover how you can filter out stuff"
            ],
            "metadata": {}
        },
        {
            "cell_type": "code",
            "execution_count": 6,
            "source": [
                "my_list = [1,2,3,4]\n",
                "new_list = [el +5 for el in my_list]\n",
                "print(new_list)"
            ],
            "outputs": [
                {
                    "output_type": "stream",
                    "name": "stdout",
                    "text": [
                        "[6, 7, 8, 9]\n"
                    ]
                }
            ],
            "metadata": {}
        },
        {
            "cell_type": "code",
            "execution_count": 8,
            "source": [
                "my_list = [1,2,3,4]\n",
                "new_list = [f\"yo {el}\" for el in my_list if el < 3]\n",
                "print(new_list)"
            ],
            "outputs": [
                {
                    "output_type": "stream",
                    "name": "stdout",
                    "text": [
                        "['yo 1', 'yo 2']\n"
                    ]
                }
            ],
            "metadata": {}
        },
        {
            "cell_type": "code",
            "execution_count": 11,
            "source": [
                "my_list = [1,2,3,4]\n",
                "new_list = {el:\"same thing\" for el in my_list}\n",
                "print(new_list)"
            ],
            "outputs": [
                {
                    "output_type": "stream",
                    "name": "stdout",
                    "text": [
                        "{1: 'same thing', 2: 'same thing', 3: 'same thing', 4: 'same thing'}\n"
                    ]
                }
            ],
            "metadata": {}
        },
        {
            "cell_type": "code",
            "execution_count": 9,
            "source": [
                "\n",
                "my_list = [1,2,3,4]\n",
                "new_list = {el:\"same thing\" for el in my_list if el < 3}\n",
                "print(new_list)"
            ],
            "outputs": [
                {
                    "output_type": "stream",
                    "name": "stdout",
                    "text": [
                        "{1: 'same thing', 2: 'same thing'}\n"
                    ]
                }
            ],
            "metadata": {}
        },
        {
            "cell_type": "markdown",
            "source": [
                "# Tuples\n",
                "- Tuple creation\n",
                "- Tuple destructuring\n",
                "- Methods with tuple, zip, and enumerate"
            ],
            "metadata": {}
        },
        {
            "cell_type": "code",
            "execution_count": 10,
            "source": [
                "my_tuple = (1,2,3,4) # a tuple\n",
                "my_list = [1,2,3,4] # a list with the same values (but it's mutable)"
            ],
            "outputs": [],
            "metadata": {}
        },
        {
            "cell_type": "code",
            "execution_count": 11,
            "source": [
                "coordinates = (10,20)\n",
                "x, y = coordinates # this does the same as the stuff below \n",
                "\n",
                "x = coordinates[0]\n",
                "y = coordinates[1]"
            ],
            "outputs": [],
            "metadata": {}
        },
        {
            "cell_type": "code",
            "execution_count": 12,
            "source": [
                "my_list = [\"hi\",\"ho\",\"yo\"]\n",
                "for i, element in enumerate(my_list):\n",
                "    print(f\"i={i},element={element}\")"
            ],
            "outputs": [
                {
                    "output_type": "stream",
                    "name": "stdout",
                    "text": [
                        "i=0,element=hi\n",
                        "i=1,element=ho\n",
                        "i=2,element=yo\n"
                    ]
                }
            ],
            "metadata": {}
        },
        {
            "cell_type": "code",
            "execution_count": 13,
            "source": [
                "names = [\"James\",\"Jerry\",\"Rao\"]\n",
                "grades = [83,72,85]\n",
                "for name, grade in zip(names,grades):\n",
                "    print(f\"name={name},grade={grade}\")"
            ],
            "outputs": [
                {
                    "output_type": "stream",
                    "name": "stdout",
                    "text": [
                        "name=James,grade=83\n",
                        "name=Jerry,grade=72\n",
                        "name=Rao,grade=85\n"
                    ]
                }
            ],
            "metadata": {}
        },
        {
            "cell_type": "markdown",
            "source": [
                "# Ternary Operator"
            ],
            "metadata": {}
        },
        {
            "cell_type": "code",
            "execution_count": 8,
            "source": [
                "age = 25\n",
                "'small' if age < 23 else 'big'"
            ],
            "outputs": [
                {
                    "output_type": "execute_result",
                    "data": {
                        "text/plain": [
                            "'big'"
                        ]
                    },
                    "metadata": {},
                    "execution_count": 8
                }
            ],
            "metadata": {}
        },
        {
            "cell_type": "markdown",
            "source": [
                "# String Manipulation\n",
                "- .join()\n",
                "- .split()"
            ],
            "metadata": {}
        },
        {
            "cell_type": "code",
            "execution_count": 12,
            "source": [
                "\"hello i will be split\".split()"
            ],
            "outputs": [
                {
                    "output_type": "execute_result",
                    "data": {
                        "text/plain": [
                            "['hello', 'i', 'will', 'be', 'split']"
                        ]
                    },
                    "metadata": {},
                    "execution_count": 12
                }
            ],
            "metadata": {}
        },
        {
            "cell_type": "code",
            "execution_count": 3,
            "source": [
                "'|||'.join([\"hi\",\"hello\",\"ho\"])"
            ],
            "outputs": [
                {
                    "output_type": "execute_result",
                    "data": {
                        "text/plain": [
                            "'hi|||hello|||ho'"
                        ]
                    },
                    "metadata": {},
                    "execution_count": 3
                }
            ],
            "metadata": {}
        },
        {
            "cell_type": "markdown",
            "source": [
                "# MiniProject\n",
                "Make a censorship program that replaces words with better words XD"
            ],
            "metadata": {}
        },
        {
            "cell_type": "code",
            "execution_count": 14,
            "source": [
                "censorship_dict = {\"pineapple\" : \"apple\", \"bad\" : \"great\"}\n",
                "def censor(text):\n",
                "    return ' '.join([censorship_dict[tok] if tok in censorship_dict else tok for tok in text.split()])"
            ],
            "outputs": [],
            "metadata": {}
        },
        {
            "cell_type": "code",
            "execution_count": 15,
            "source": [
                "censor(\"hello i think pineapple pizza is great and that the ai club is bad\")"
            ],
            "outputs": [
                {
                    "output_type": "execute_result",
                    "data": {
                        "text/plain": [
                            "'hello i think apple pizza is great and that the ai club is great'"
                        ]
                    },
                    "metadata": {},
                    "execution_count": 15
                }
            ],
            "metadata": {}
        }
    ],
    "metadata": {
        "orig_nbformat": 4,
        "language_info": {
            "name": "python",
            "version": "3.7.7",
            "mimetype": "text/x-python",
            "codemirror_mode": {
                "name": "ipython",
                "version": 3
            },
            "pygments_lexer": "ipython3",
            "nbconvert_exporter": "python",
            "file_extension": ".py"
        },
        "kernelspec": {
            "name": "python3",
            "display_name": "Python 3.7.7 64-bit ('ml-env': conda)"
        },
        "interpreter": {
            "hash": "4fba8dc297dec1b7a22f84dbfd6667cfa92bca8fe2ec29e64528625211117b3e"
        }
    },
    "nbformat": 4,
    "nbformat_minor": 2
}