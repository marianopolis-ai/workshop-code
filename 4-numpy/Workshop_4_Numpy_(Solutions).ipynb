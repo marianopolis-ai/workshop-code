{
  "nbformat": 4,
  "nbformat_minor": 0,
  "metadata": {
    "colab": {
      "name": "Workshop #4: Numpy (Solutions)",
      "provenance": [],
      "collapsed_sections": []
    },
    "kernelspec": {
      "name": "python3",
      "display_name": "Python 3"
    },
    "language_info": {
      "name": "python"
    }
  },
  "cells": [
    {
      "cell_type": "markdown",
      "metadata": {
        "id": "Xuez0VL8_8_S"
      },
      "source": [
        "# Exercice 1: Import Numpy and print its version\n",
        "Expected output: ```'1.19.5'```"
      ]
    },
    {
      "cell_type": "code",
      "metadata": {
        "id": "9hIXT7L7j2DX"
      },
      "source": [
        "# write your code here :D"
      ],
      "execution_count": null,
      "outputs": []
    },
    {
      "cell_type": "code",
      "metadata": {
        "id": "nTDbhkb4Ab6I",
        "colab": {
          "base_uri": "https://localhost:8080/",
          "height": 35
        },
        "outputId": "25bdc3d5-0f1b-4947-b715-31a294f81709"
      },
      "source": [
        "import numpy as np\n",
        "np.__version__"
      ],
      "execution_count": null,
      "outputs": [
        {
          "output_type": "execute_result",
          "data": {
            "application/vnd.google.colaboratory.intrinsic+json": {
              "type": "string"
            },
            "text/plain": [
              "'1.19.5'"
            ]
          },
          "metadata": {},
          "execution_count": 91
        }
      ]
    },
    {
      "cell_type": "markdown",
      "metadata": {
        "id": "f6iGMpPvAGOi"
      },
      "source": [
        "# Exercice 2: Create a numpy array with 1, 2 and 3 in it\n",
        "Expected output: `array([1, 2, 3])`"
      ]
    },
    {
      "cell_type": "code",
      "metadata": {
        "id": "lw94MXB_j6DE"
      },
      "source": [
        "# create your array here"
      ],
      "execution_count": null,
      "outputs": []
    },
    {
      "cell_type": "code",
      "metadata": {
        "colab": {
          "base_uri": "https://localhost:8080/"
        },
        "id": "fIEPiypHBnfs",
        "outputId": "c83a2ec5-7e9a-4465-9d82-0134cdd8aefe"
      },
      "source": [
        "np.array([1,2,3])"
      ],
      "execution_count": null,
      "outputs": [
        {
          "output_type": "execute_result",
          "data": {
            "text/plain": [
              "array([1, 2, 3])"
            ]
          },
          "metadata": {},
          "execution_count": 92
        }
      ]
    },
    {
      "cell_type": "markdown",
      "metadata": {
        "id": "3wyFsTE9B3Xl"
      },
      "source": [
        "# Exercice 3: Create a numpy array that contains 1, 2, 3 in decimal numbers and print it's dtype (float64)\n",
        "Expected output: \n",
        "```\n",
        "array([1., 2., 3.])\n",
        "float64\n",
        "```"
      ]
    },
    {
      "cell_type": "code",
      "metadata": {
        "id": "xriZVWCokCAM"
      },
      "source": [
        "# start coding here"
      ],
      "execution_count": null,
      "outputs": []
    },
    {
      "cell_type": "code",
      "metadata": {
        "id": "l02pyd-eCgvT",
        "colab": {
          "base_uri": "https://localhost:8080/"
        },
        "outputId": "37d33fec-5297-42b2-992f-4a0a2e60455f"
      },
      "source": [
        "np.array([1.0,2.0,3.0])"
      ],
      "execution_count": null,
      "outputs": [
        {
          "output_type": "execute_result",
          "data": {
            "text/plain": [
              "array([1., 2., 3.])"
            ]
          },
          "metadata": {},
          "execution_count": 93
        }
      ]
    },
    {
      "cell_type": "markdown",
      "metadata": {
        "id": "sFa219FxQsrb"
      },
      "source": [
        "# Exercise 4: Use the below `nums_list` list and convert it to a numpy array, storing it in a new variable `np_list`\n",
        "Expected output: ```\n",
        "array([     10,      -1, 1029381,   31415])\n",
        "``` "
      ]
    },
    {
      "cell_type": "code",
      "metadata": {
        "colab": {
          "base_uri": "https://localhost:8080/"
        },
        "id": "nck7AeMHRFG0",
        "outputId": "9bf302df-3205-48c9-ef1e-a83eec79cb03"
      },
      "source": [
        "nums_list = [10,-1,1029381,31415]\n",
        "np_list = # ... (fill in the dots)\n",
        "\n",
        "# uncomment the line below if you want to see the value of np_list (in cells, the last expression will be displayed)\n",
        "# np_list "
      ],
      "execution_count": null,
      "outputs": [
        {
          "output_type": "execute_result",
          "data": {
            "text/plain": [
              "array([     10,      -1, 1029381,   31415])"
            ]
          },
          "metadata": {},
          "execution_count": 10
        }
      ]
    },
    {
      "cell_type": "markdown",
      "metadata": {
        "id": "ppQNQqgFChOq"
      },
      "source": [
        "# Exercice 5: Create a **3 by 4 array** that contains numbers from 1 to 12 in decimal numbers, and store it in a variable\n",
        "Expected output: \n",
        "```\n",
        "array([[ 1,  2,  3,  4],\n",
        "       [ 5,  6,  7,  8],\n",
        "       [ 9, 10, 11, 12]])\n",
        "```"
      ]
    },
    {
      "cell_type": "code",
      "metadata": {
        "id": "zlJ00m45kZWT"
      },
      "source": [
        "# start coding! you can do this :D"
      ],
      "execution_count": null,
      "outputs": []
    },
    {
      "cell_type": "code",
      "metadata": {
        "colab": {
          "base_uri": "https://localhost:8080/"
        },
        "id": "iPGC-dg9De_3",
        "outputId": "0815f2c9-1ef8-4861-8547-5023e0efd63e"
      },
      "source": [
        "lol = np.arange(1,13)\n",
        "lol.reshape(3,4)"
      ],
      "execution_count": null,
      "outputs": [
        {
          "output_type": "execute_result",
          "data": {
            "text/plain": [
              "array([[ 1,  2,  3,  4],\n",
              "       [ 5,  6,  7,  8],\n",
              "       [ 9, 10, 11, 12]])"
            ]
          },
          "metadata": {},
          "execution_count": 94
        }
      ]
    },
    {
      "cell_type": "markdown",
      "metadata": {
        "id": "xxrXcHKGFM00"
      },
      "source": [
        "# Exercice 6: Reshape the array created in exercice 5 into a **6 by 2 array**\n",
        "##*(Do not create a new array)* \n",
        "Expected output: \n",
        "``` \n",
        "array([[ 1,  2],\n",
        "       [ 3,  4],\n",
        "       [ 5,  6],\n",
        "       [ 7,  8],\n",
        "       [ 9, 10],\n",
        "       [11, 12]])\n",
        "```"
      ]
    },
    {
      "cell_type": "code",
      "metadata": {
        "id": "s81VSKWjkaqQ"
      },
      "source": [
        "# come on, you can do this!"
      ],
      "execution_count": null,
      "outputs": []
    },
    {
      "cell_type": "code",
      "metadata": {
        "colab": {
          "base_uri": "https://localhost:8080/"
        },
        "id": "CpcddPgEGez_",
        "outputId": "5b123bec-039c-4e7e-8184-83280eb5916e"
      },
      "source": [
        "lol.reshape(6,2)"
      ],
      "execution_count": null,
      "outputs": [
        {
          "output_type": "execute_result",
          "data": {
            "text/plain": [
              "array([[ 1,  2],\n",
              "       [ 3,  4],\n",
              "       [ 5,  6],\n",
              "       [ 7,  8],\n",
              "       [ 9, 10],\n",
              "       [11, 12]])"
            ]
          },
          "metadata": {},
          "execution_count": 95
        }
      ]
    },
    {
      "cell_type": "markdown",
      "metadata": {
        "id": "2J31KTnnQirB"
      },
      "source": [
        "# Exercise 7: Create the following numpy arrays and perform the following operations\n",
        "u: ```array([10, 20, 30, 40, 50])```\\\n",
        "v: ```np.array([-5,-4,-3,-2,-1])```\n",
        "## Calculate:\n",
        "1. 25u\n",
        "2. u + v\n",
        "3. u - v\n",
        "4. u * v\n",
        "5. u - 20 * v\n",
        "\n",
        "## Expected outputs\n",
        "1. `[ 250  500  750 1000 1250]`\n",
        "2. `[ 5 16 27 38 49]`\n",
        "3. `[15 24 33 42 51]`\n",
        "4. `[-50 -80 -90 -80 -50]` \n",
        "5. `[110 100  90  80  70]`"
      ]
    },
    {
      "cell_type": "code",
      "metadata": {
        "id": "VdjDMlsiQjzq"
      },
      "source": [
        "# u = ... (create array here)\n",
        "# v = ... (create array here)"
      ],
      "execution_count": null,
      "outputs": []
    },
    {
      "cell_type": "code",
      "metadata": {
        "colab": {
          "base_uri": "https://localhost:8080/"
        },
        "id": "ojvYT458S5Dn",
        "outputId": "d998da92-d30d-4888-fa72-61b47d15d9e6"
      },
      "source": [
        "u = np.array([10,20,30,40,50])\n",
        "v = np.array([-5,-4,-3,-2,-1])\n",
        "print(25*u)\n",
        "print(u+v)\n",
        "print(u-v)\n",
        "print(u*v)\n",
        "print(u-20*v)"
      ],
      "execution_count": null,
      "outputs": [
        {
          "output_type": "stream",
          "name": "stdout",
          "text": [
            "[ 250  500  750 1000 1250]\n",
            "[ 5 16 27 38 49]\n",
            "[15 24 33 42 51]\n",
            "[-50 -80 -90 -80 -50]\n",
            "[110 100  90  80  70]\n"
          ]
        }
      ]
    },
    {
      "cell_type": "code",
      "metadata": {
        "colab": {
          "base_uri": "https://localhost:8080/"
        },
        "id": "PQOjN2bJSP1u",
        "outputId": "eaab2efc-84c8-4833-d486-f46868805fec"
      },
      "source": [
        "np.array([-5,-4,-3,-2,-1])"
      ],
      "execution_count": null,
      "outputs": [
        {
          "output_type": "execute_result",
          "data": {
            "text/plain": [
              "array([10, 20, 30, 40, 50])"
            ]
          },
          "metadata": {},
          "execution_count": 11
        }
      ]
    },
    {
      "cell_type": "markdown",
      "metadata": {
        "id": "cjNbhf5STxq4"
      },
      "source": [
        "# Exercice 8: Take the **mean**, and the **standard deviation** and the **sum** of the expression $u + v$ \n",
        "###*Take u and v from exercice 7* \n",
        "Expected output: \n",
        "```\n",
        "27.0\n",
        "15.556349186104045\n",
        "135\n",
        "```"
      ]
    },
    {
      "cell_type": "code",
      "metadata": {
        "id": "peG1GDTRV-LV"
      },
      "source": [
        "# write code here, you're almost there!"
      ],
      "execution_count": null,
      "outputs": []
    },
    {
      "cell_type": "code",
      "metadata": {
        "id": "K0nXyRvJSRrt",
        "colab": {
          "base_uri": "https://localhost:8080/"
        },
        "outputId": "362357f5-4532-485b-f624-f1b1283698fd"
      },
      "source": [
        "sum = u+v\n",
        "print(np.mean(sum))\n",
        "print(np.std(sum))\n",
        "print(np.sum(sum))"
      ],
      "execution_count": null,
      "outputs": [
        {
          "output_type": "stream",
          "name": "stdout",
          "text": [
            "27.0\n",
            "15.556349186104045\n",
            "135\n"
          ]
        }
      ]
    },
    {
      "cell_type": "markdown",
      "metadata": {
        "id": "0BeAEEvlVD7M"
      },
      "source": [
        "# Exercice 9: Concatenate the following arrays to make the following expected outputs\n",
        "a: ```[[1 2]]```\n",
        "b: ```[[3 4]]```\n",
        "c: ```[[5 6]]```\n",
        "\n",
        "Expected output:\n",
        "```\n",
        "[[1 2 5 6]]\n",
        "```\n",
        "```\n",
        "[[3 4]\n",
        " [1 2]]\n",
        "```\n",
        "```\n",
        "[[5 6 3]\n",
        " [1 2 4]]\n",
        "```"
      ]
    },
    {
      "cell_type": "code",
      "metadata": {
        "id": "29k-UFHXYHoz"
      },
      "source": [
        "a = # Create array\n",
        "b = # Create array\n",
        "c = # Create array"
      ],
      "execution_count": null,
      "outputs": []
    },
    {
      "cell_type": "code",
      "metadata": {
        "colab": {
          "base_uri": "https://localhost:8080/"
        },
        "id": "R4J6EDF6YH3t",
        "outputId": "e5d9c43c-3dac-4957-f5ae-7a0810e23fc6"
      },
      "source": [
        "a = np.array([[1,2]])\n",
        "b = np.array([[3,4]])\n",
        "c = np.array([[5,6]])\n",
        "\n",
        "print(np.concatenate((a,c),1))\n",
        "print(\"\")\n",
        "print(np.concatenate((b,a),0))\n",
        "print(\"\")\n",
        "ca = np.concatenate((c,a),0)\n",
        "b2 = b.reshape(2,1)\n",
        "print(np.concatenate((ca,b2),1))"
      ],
      "execution_count": null,
      "outputs": [
        {
          "output_type": "stream",
          "name": "stdout",
          "text": [
            "[[1 2 5 6]]\n",
            "\n",
            "[[3 4]\n",
            " [1 2]]\n",
            "\n",
            "[[5 6 3]\n",
            " [1 2 4]]\n"
          ]
        }
      ]
    },
    {
      "cell_type": "markdown",
      "metadata": {
        "id": "gNIOFz0Uaru7"
      },
      "source": [
        "# Exercice 10: Print an array with all the positive integers from 0 to 200\n",
        "Expected output:\n",
        "```\n",
        "[  0   1   2   3   4   5   6   7   8   9  10  11  12  13  14  15  16  17\n",
        "  18  19  20  21  22  23  24  25  26  27  28  29  30  31  32  33  34  35\n",
        "  36  37  38  39  40  41  42  43  44  45  46  47  48  49  50  51  52  53\n",
        "  54  55  56  57  58  59  60  61  62  63  64  65  66  67  68  69  70  71\n",
        "  72  73  74  75  76  77  78  79  80  81  82  83  84  85  86  87  88  89\n",
        "  90  91  92  93  94  95  96  97  98  99 100 101 102 103 104 105 106 107\n",
        " 108 109 110 111 112 113 114 115 116 117 118 119 120 121 122 123 124 125\n",
        " 126 127 128 129 130 131 132 133 134 135 136 137 138 139 140 141 142 143\n",
        " 144 145 146 147 148 149 150 151 152 153 154 155 156 157 158 159 160 161\n",
        " 162 163 164 165 166 167 168 169 170 171 172 173 174 175 176 177 178 179\n",
        " 180 181 182 183 184 185 186 187 188 189 190 191 192 193 194 195 196 197\n",
        " 198 199 200]\n",
        "```"
      ]
    },
    {
      "cell_type": "code",
      "metadata": {
        "id": "vavgqnyebFvh"
      },
      "source": [
        "# wow, you're far now! keep up the good job!"
      ],
      "execution_count": null,
      "outputs": []
    },
    {
      "cell_type": "code",
      "metadata": {
        "colab": {
          "base_uri": "https://localhost:8080/"
        },
        "id": "IR4rMD5LbF4E",
        "outputId": "659e09e8-6e16-4e28-ad69-b9025139985c"
      },
      "source": [
        "print(np.arange(0,201))"
      ],
      "execution_count": null,
      "outputs": [
        {
          "output_type": "stream",
          "name": "stdout",
          "text": [
            "[  0   1   2   3   4   5   6   7   8   9  10  11  12  13  14  15  16  17\n",
            "  18  19  20  21  22  23  24  25  26  27  28  29  30  31  32  33  34  35\n",
            "  36  37  38  39  40  41  42  43  44  45  46  47  48  49  50  51  52  53\n",
            "  54  55  56  57  58  59  60  61  62  63  64  65  66  67  68  69  70  71\n",
            "  72  73  74  75  76  77  78  79  80  81  82  83  84  85  86  87  88  89\n",
            "  90  91  92  93  94  95  96  97  98  99 100 101 102 103 104 105 106 107\n",
            " 108 109 110 111 112 113 114 115 116 117 118 119 120 121 122 123 124 125\n",
            " 126 127 128 129 130 131 132 133 134 135 136 137 138 139 140 141 142 143\n",
            " 144 145 146 147 148 149 150 151 152 153 154 155 156 157 158 159 160 161\n",
            " 162 163 164 165 166 167 168 169 170 171 172 173 174 175 176 177 178 179\n",
            " 180 181 182 183 184 185 186 187 188 189 190 191 192 193 194 195 196 197\n",
            " 198 199 200]\n"
          ]
        }
      ]
    },
    {
      "cell_type": "markdown",
      "metadata": {
        "id": "jym1dk9LbdZO"
      },
      "source": [
        "# Exercice 11: Make a **2 by 2 by 2 by 2** (4 dimensional 😏) array containing random floats from 0 to 100\n",
        "Possible output:\n",
        "```\n",
        "[[[[31.0998147  78.5261268 ]\n",
        "   [97.08352693 34.50862347]]\n",
        "\n",
        "  [[35.62939629 17.22400025]\n",
        "   [85.79696018 86.8793881 ]]]\n",
        "\n",
        "\n",
        " [[[59.95077707 67.66885361]\n",
        "   [17.27551897 84.49471618]]\n",
        "\n",
        "  [[85.79123904 11.69054632]\n",
        "   [22.95338235 80.10511775]]]]\n",
        "```"
      ]
    },
    {
      "cell_type": "code",
      "metadata": {
        "id": "SXlFKPE3ni7p"
      },
      "source": [
        "# write here! the next one will be more difficult! "
      ],
      "execution_count": null,
      "outputs": []
    },
    {
      "cell_type": "code",
      "metadata": {
        "colab": {
          "base_uri": "https://localhost:8080/"
        },
        "id": "HVP6I7fHcKD9",
        "outputId": "4dcc08c0-67f4-4ff8-d9cc-325ba24e1aaf"
      },
      "source": [
        "print(np.random.rand(2,2,2,2)*100)"
      ],
      "execution_count": null,
      "outputs": [
        {
          "output_type": "stream",
          "name": "stdout",
          "text": [
            "[[[[31.0998147  78.5261268 ]\n",
            "   [97.08352693 34.50862347]]\n",
            "\n",
            "  [[35.62939629 17.22400025]\n",
            "   [85.79696018 86.8793881 ]]]\n",
            "\n",
            "\n",
            " [[[59.95077707 67.66885361]\n",
            "   [17.27551897 84.49471618]]\n",
            "\n",
            "  [[85.79123904 11.69054632]\n",
            "   [22.95338235 80.10511775]]]]\n"
          ]
        }
      ]
    },
    {
      "cell_type": "markdown",
      "metadata": {
        "id": "6Gcj_FtkeQh_"
      },
      "source": [
        "# Exercice 12:\n",
        "## Linear Regression\n",
        "A Linear Regression is a model that learns to fit the best line to a given data.<br/>\n",
        "It has the formula $y = mx + b$<br/> \n",
        "It assumes your data looks roughly linear and its goal is to find the correct values for $m$ and $b$\\\n",
        "A linear regression given data $X$ and $Y$ will output the following optimized terms.\n",
        ">Note: the following expressions may be different from what you see online, but they work regardless\n",
        "# $m = \\frac{\\sum_{i=0}^{N}x_{i}y_{i}-\\bar{y}\\sum_{i=0}^{N}x_i}{\\sum_{i=0}^{N}x_i^2-\\bar{x}\\sum_{i=0}^{N}x_i}$\n",
        "# $b = \\bar{y} - m\\bar{x}$\n",
        "where \n",
        "- $x_i$ represents the i'th sample of $X$\n",
        "- $y_i$ represents the i'th sample of $Y$ similarly\n",
        "- $Σ$ represents a summation over each terms from 0 to N\n",
        "- $N$ represents the number of samples\n",
        "- $m$ represents the slope\n",
        "- $b$ represents the y-intercept\n",
        "- $\\bar{x}$ represents the mean of x\n",
        "- $\\bar{y}$ represents the mean of y\n",
        "\n"
      ]
    },
    {
      "cell_type": "code",
      "metadata": {
        "id": "-EBoVb0Vce5t",
        "colab": {
          "base_uri": "https://localhost:8080/",
          "height": 265
        },
        "outputId": "8f609cc7-b6c5-4dcb-8f75-4833308724e9"
      },
      "source": [
        "# Here, the slope is of 1, and the bias is of 2, we add noise to it, to make it\n",
        "# look more \"realistic\"\n",
        "import matplotlib.pyplot as plt\n",
        "\n",
        "x = np.arange(40)\n",
        "y = x * 1 + 2 + np.random.randn((x.shape[0])) * 2\n",
        "plt.scatter(x,y)\n",
        "plt.show()"
      ],
      "execution_count": null,
      "outputs": [
        {
          "output_type": "display_data",
          "data": {
            "image/png": "[encoded data removed]",
            "text/plain": [
              "<Figure size 432x288 with 1 Axes>"
            ]
          },
          "metadata": {
            "needs_background": "light"
          }
        }
      ]
    },
    {
      "cell_type": "code",
      "metadata": {
        "id": "8V4l1mBOnnOq"
      },
      "source": [
        "# best of luck my friend."
      ],
      "execution_count": null,
      "outputs": []
    },
    {
      "cell_type": "code",
      "metadata": {
        "colab": {
          "base_uri": "https://localhost:8080/"
        },
        "id": "gyvLLX99e5kA",
        "outputId": "4b1ab018-7189-4a2a-a10a-45320f1cf579"
      },
      "source": [
        "m = (np.sum(x*y)-np.mean(y)*np.sum(x))/ (np.sum(x**2)-np.mean(x)*np.sum(x))\n",
        "print(m)\n",
        "b = np.mean(y)-m*np.mean(x)\n",
        "print(b)"
      ],
      "execution_count": null,
      "outputs": [
        {
          "output_type": "stream",
          "name": "stdout",
          "text": [
            "0.9623739871384832\n",
            "2.6529891631480567\n"
          ]
        }
      ]
    },
    {
      "cell_type": "code",
      "metadata": {
        "colab": {
          "base_uri": "https://localhost:8080/",
          "height": 265
        },
        "id": "7gMN_g1Lg2Ni",
        "outputId": "f99efc78-74aa-47f7-e720-837cf6d592e2"
      },
      "source": [
        "# DO NOT TOUCH THIS CODE\n",
        "# ONLY RUN IT TO TEST YOUR 'm' and 'b' VALUES\n",
        "predicted_x = np.arange(40)\n",
        "predicted_y = m*predicted_x+b\n",
        "plt.plot(predicted_x, predicted_y, color=\"orange\", linewidth=3)\n",
        "plt.scatter(x,y)\n",
        "plt.show()"
      ],
      "execution_count": null,
      "outputs": [
        {
          "output_type": "display_data",
          "data": {
            "image/png": "[encoded data removed]",
            "text/plain": [
              "<Figure size 432x288 with 1 Axes>"
            ]
          },
          "metadata": {
            "needs_background": "light"
          }
        }
      ]
    }
  ]
}