{
  "cells": [
    {
      "cell_type": "markdown",
      "metadata": {
        "id": "ZavCANx9TR4H"
      },
      "source": [
        "#Pandas and Scikitlearn"
      ]
    },
    {
      "cell_type": "markdown",
      "metadata": {
        "id": "DGxvxgi6os1R"
      },
      "source": [
        "##Pandas"
      ]
    },
    {
      "cell_type": "markdown",
      "metadata": {
        "id": "ox8fBXGmSpQt"
      },
      "source": [
        "The first step of the project is to import numpy in your code."
      ]
    },
    {
      "cell_type": "code",
      "execution_count": 1,
      "metadata": {
        "colab": {
          "base_uri": "https://localhost:8080/",
          "height": 35
        },
        "id": "mUlbDsZKht4m",
        "outputId": "00190d9b-1eb2-4558-feef-845cafbd9a88"
      },
      "outputs": [
        {
          "data": {
            "text/plain": [
              "'1.3.4'"
            ]
          },
          "execution_count": 1,
          "metadata": {},
          "output_type": "execute_result"
        }
      ],
      "source": [
        "import pandas as pd\n",
        "pd.__version__"
      ]
    },
    {
      "cell_type": "markdown",
      "metadata": {
        "id": "9MIM0AYlUUhe"
      },
      "source": [
        "Then, we need a dataset to analyse our data. You can use the dataset from our github repository on life expectancy by importing it with the following code."
      ]
    },
    {
      "cell_type": "code",
      "execution_count": 2,
      "metadata": {
        "colab": {
          "base_uri": "https://localhost:8080/",
          "height": 492
        },
        "id": "VSCjH8MYhwyn",
        "outputId": "71455076-715f-4ac2-a746-1d30b718a143"
      },
      "outputs": [
        {
          "data": {
            "text/html": [
              "<div>\n",
              "<style scoped>\n",
              "    .dataframe tbody tr th:only-of-type {\n",
              "        vertical-align: middle;\n",
              "    }\n",
              "\n",
              "    .dataframe tbody tr th {\n",
              "        vertical-align: top;\n",
              "    }\n",
              "\n",
              "    .dataframe thead th {\n",
              "        text-align: right;\n",
              "    }\n",
              "</style>\n",
              "<table border=\"1\" class=\"dataframe\">\n",
              "  <thead>\n",
              "    <tr style=\"text-align: right;\">\n",
              "      <th></th>\n",
              "      <th>Country</th>\n",
              "      <th>Year</th>\n",
              "      <th>Status</th>\n",
              "      <th>Life expectancy</th>\n",
              "      <th>Adult Mortality</th>\n",
              "      <th>infant deaths</th>\n",
              "      <th>Alcohol</th>\n",
              "      <th>percentage expenditure</th>\n",
              "      <th>Hepatitis B</th>\n",
              "      <th>Measles</th>\n",
              "      <th>...</th>\n",
              "      <th>Polio</th>\n",
              "      <th>Total expenditure</th>\n",
              "      <th>Diphtheria</th>\n",
              "      <th>HIV/AIDS</th>\n",
              "      <th>GDP</th>\n",
              "      <th>Population</th>\n",
              "      <th>thinness 1-19 years</th>\n",
              "      <th>thinness 5-9 years</th>\n",
              "      <th>Income composition of resources</th>\n",
              "      <th>Schooling</th>\n",
              "    </tr>\n",
              "  </thead>\n",
              "  <tbody>\n",
              "    <tr>\n",
              "      <th>0</th>\n",
              "      <td>Afghanistan</td>\n",
              "      <td>2015</td>\n",
              "      <td>Developing</td>\n",
              "      <td>65.0</td>\n",
              "      <td>263.0</td>\n",
              "      <td>62</td>\n",
              "      <td>0.01</td>\n",
              "      <td>71.279624</td>\n",
              "      <td>65.0</td>\n",
              "      <td>1154</td>\n",
              "      <td>...</td>\n",
              "      <td>6.0</td>\n",
              "      <td>8.16</td>\n",
              "      <td>65.0</td>\n",
              "      <td>0.1</td>\n",
              "      <td>584.259210</td>\n",
              "      <td>33736494.0</td>\n",
              "      <td>17.2</td>\n",
              "      <td>17.3</td>\n",
              "      <td>0.479</td>\n",
              "      <td>10.1</td>\n",
              "    </tr>\n",
              "    <tr>\n",
              "      <th>1</th>\n",
              "      <td>Afghanistan</td>\n",
              "      <td>2014</td>\n",
              "      <td>Developing</td>\n",
              "      <td>59.9</td>\n",
              "      <td>271.0</td>\n",
              "      <td>64</td>\n",
              "      <td>0.01</td>\n",
              "      <td>73.523582</td>\n",
              "      <td>62.0</td>\n",
              "      <td>492</td>\n",
              "      <td>...</td>\n",
              "      <td>58.0</td>\n",
              "      <td>8.18</td>\n",
              "      <td>62.0</td>\n",
              "      <td>0.1</td>\n",
              "      <td>612.696514</td>\n",
              "      <td>327582.0</td>\n",
              "      <td>17.5</td>\n",
              "      <td>17.5</td>\n",
              "      <td>0.476</td>\n",
              "      <td>10.0</td>\n",
              "    </tr>\n",
              "    <tr>\n",
              "      <th>2</th>\n",
              "      <td>Afghanistan</td>\n",
              "      <td>2013</td>\n",
              "      <td>Developing</td>\n",
              "      <td>59.9</td>\n",
              "      <td>268.0</td>\n",
              "      <td>66</td>\n",
              "      <td>0.01</td>\n",
              "      <td>73.219243</td>\n",
              "      <td>64.0</td>\n",
              "      <td>430</td>\n",
              "      <td>...</td>\n",
              "      <td>62.0</td>\n",
              "      <td>8.13</td>\n",
              "      <td>64.0</td>\n",
              "      <td>0.1</td>\n",
              "      <td>631.744976</td>\n",
              "      <td>31731688.0</td>\n",
              "      <td>17.7</td>\n",
              "      <td>17.7</td>\n",
              "      <td>0.470</td>\n",
              "      <td>9.9</td>\n",
              "    </tr>\n",
              "    <tr>\n",
              "      <th>3</th>\n",
              "      <td>Afghanistan</td>\n",
              "      <td>2012</td>\n",
              "      <td>Developing</td>\n",
              "      <td>59.5</td>\n",
              "      <td>272.0</td>\n",
              "      <td>69</td>\n",
              "      <td>0.01</td>\n",
              "      <td>78.184215</td>\n",
              "      <td>67.0</td>\n",
              "      <td>2787</td>\n",
              "      <td>...</td>\n",
              "      <td>67.0</td>\n",
              "      <td>8.52</td>\n",
              "      <td>67.0</td>\n",
              "      <td>0.1</td>\n",
              "      <td>669.959000</td>\n",
              "      <td>3696958.0</td>\n",
              "      <td>17.9</td>\n",
              "      <td>18.0</td>\n",
              "      <td>0.463</td>\n",
              "      <td>9.8</td>\n",
              "    </tr>\n",
              "    <tr>\n",
              "      <th>4</th>\n",
              "      <td>Afghanistan</td>\n",
              "      <td>2011</td>\n",
              "      <td>Developing</td>\n",
              "      <td>59.2</td>\n",
              "      <td>275.0</td>\n",
              "      <td>71</td>\n",
              "      <td>0.01</td>\n",
              "      <td>7.097109</td>\n",
              "      <td>68.0</td>\n",
              "      <td>3013</td>\n",
              "      <td>...</td>\n",
              "      <td>68.0</td>\n",
              "      <td>7.87</td>\n",
              "      <td>68.0</td>\n",
              "      <td>0.1</td>\n",
              "      <td>63.537231</td>\n",
              "      <td>2978599.0</td>\n",
              "      <td>18.2</td>\n",
              "      <td>18.2</td>\n",
              "      <td>0.454</td>\n",
              "      <td>9.5</td>\n",
              "    </tr>\n",
              "    <tr>\n",
              "      <th>...</th>\n",
              "      <td>...</td>\n",
              "      <td>...</td>\n",
              "      <td>...</td>\n",
              "      <td>...</td>\n",
              "      <td>...</td>\n",
              "      <td>...</td>\n",
              "      <td>...</td>\n",
              "      <td>...</td>\n",
              "      <td>...</td>\n",
              "      <td>...</td>\n",
              "      <td>...</td>\n",
              "      <td>...</td>\n",
              "      <td>...</td>\n",
              "      <td>...</td>\n",
              "      <td>...</td>\n",
              "      <td>...</td>\n",
              "      <td>...</td>\n",
              "      <td>...</td>\n",
              "      <td>...</td>\n",
              "      <td>...</td>\n",
              "      <td>...</td>\n",
              "    </tr>\n",
              "    <tr>\n",
              "      <th>2933</th>\n",
              "      <td>Zimbabwe</td>\n",
              "      <td>2004</td>\n",
              "      <td>Developing</td>\n",
              "      <td>44.3</td>\n",
              "      <td>723.0</td>\n",
              "      <td>27</td>\n",
              "      <td>4.36</td>\n",
              "      <td>0.000000</td>\n",
              "      <td>68.0</td>\n",
              "      <td>31</td>\n",
              "      <td>...</td>\n",
              "      <td>67.0</td>\n",
              "      <td>7.13</td>\n",
              "      <td>65.0</td>\n",
              "      <td>33.6</td>\n",
              "      <td>454.366654</td>\n",
              "      <td>12777511.0</td>\n",
              "      <td>9.4</td>\n",
              "      <td>9.4</td>\n",
              "      <td>0.407</td>\n",
              "      <td>9.2</td>\n",
              "    </tr>\n",
              "    <tr>\n",
              "      <th>2934</th>\n",
              "      <td>Zimbabwe</td>\n",
              "      <td>2003</td>\n",
              "      <td>Developing</td>\n",
              "      <td>44.5</td>\n",
              "      <td>715.0</td>\n",
              "      <td>26</td>\n",
              "      <td>4.06</td>\n",
              "      <td>0.000000</td>\n",
              "      <td>7.0</td>\n",
              "      <td>998</td>\n",
              "      <td>...</td>\n",
              "      <td>7.0</td>\n",
              "      <td>6.52</td>\n",
              "      <td>68.0</td>\n",
              "      <td>36.7</td>\n",
              "      <td>453.351155</td>\n",
              "      <td>12633897.0</td>\n",
              "      <td>9.8</td>\n",
              "      <td>9.9</td>\n",
              "      <td>0.418</td>\n",
              "      <td>9.5</td>\n",
              "    </tr>\n",
              "    <tr>\n",
              "      <th>2935</th>\n",
              "      <td>Zimbabwe</td>\n",
              "      <td>2002</td>\n",
              "      <td>Developing</td>\n",
              "      <td>44.8</td>\n",
              "      <td>73.0</td>\n",
              "      <td>25</td>\n",
              "      <td>4.43</td>\n",
              "      <td>0.000000</td>\n",
              "      <td>73.0</td>\n",
              "      <td>304</td>\n",
              "      <td>...</td>\n",
              "      <td>73.0</td>\n",
              "      <td>6.53</td>\n",
              "      <td>71.0</td>\n",
              "      <td>39.8</td>\n",
              "      <td>57.348340</td>\n",
              "      <td>125525.0</td>\n",
              "      <td>1.2</td>\n",
              "      <td>1.3</td>\n",
              "      <td>0.427</td>\n",
              "      <td>10.0</td>\n",
              "    </tr>\n",
              "    <tr>\n",
              "      <th>2936</th>\n",
              "      <td>Zimbabwe</td>\n",
              "      <td>2001</td>\n",
              "      <td>Developing</td>\n",
              "      <td>45.3</td>\n",
              "      <td>686.0</td>\n",
              "      <td>25</td>\n",
              "      <td>1.72</td>\n",
              "      <td>0.000000</td>\n",
              "      <td>76.0</td>\n",
              "      <td>529</td>\n",
              "      <td>...</td>\n",
              "      <td>76.0</td>\n",
              "      <td>6.16</td>\n",
              "      <td>75.0</td>\n",
              "      <td>42.1</td>\n",
              "      <td>548.587312</td>\n",
              "      <td>12366165.0</td>\n",
              "      <td>1.6</td>\n",
              "      <td>1.7</td>\n",
              "      <td>0.427</td>\n",
              "      <td>9.8</td>\n",
              "    </tr>\n",
              "    <tr>\n",
              "      <th>2937</th>\n",
              "      <td>Zimbabwe</td>\n",
              "      <td>2000</td>\n",
              "      <td>Developing</td>\n",
              "      <td>46.0</td>\n",
              "      <td>665.0</td>\n",
              "      <td>24</td>\n",
              "      <td>1.68</td>\n",
              "      <td>0.000000</td>\n",
              "      <td>79.0</td>\n",
              "      <td>1483</td>\n",
              "      <td>...</td>\n",
              "      <td>78.0</td>\n",
              "      <td>7.10</td>\n",
              "      <td>78.0</td>\n",
              "      <td>43.5</td>\n",
              "      <td>547.358878</td>\n",
              "      <td>12222251.0</td>\n",
              "      <td>11.0</td>\n",
              "      <td>11.2</td>\n",
              "      <td>0.434</td>\n",
              "      <td>9.8</td>\n",
              "    </tr>\n",
              "  </tbody>\n",
              "</table>\n",
              "<p>2938 rows × 22 columns</p>\n",
              "</div>"
            ],
            "text/plain": [
              "          Country  Year      Status  Life expectancy  Adult Mortality  \\\n",
              "0     Afghanistan  2015  Developing             65.0            263.0   \n",
              "1     Afghanistan  2014  Developing             59.9            271.0   \n",
              "2     Afghanistan  2013  Developing             59.9            268.0   \n",
              "3     Afghanistan  2012  Developing             59.5            272.0   \n",
              "4     Afghanistan  2011  Developing             59.2            275.0   \n",
              "...           ...   ...         ...              ...              ...   \n",
              "2933     Zimbabwe  2004  Developing             44.3            723.0   \n",
              "2934     Zimbabwe  2003  Developing             44.5            715.0   \n",
              "2935     Zimbabwe  2002  Developing             44.8             73.0   \n",
              "2936     Zimbabwe  2001  Developing             45.3            686.0   \n",
              "2937     Zimbabwe  2000  Developing             46.0            665.0   \n",
              "\n",
              "      infant deaths  Alcohol  percentage expenditure  Hepatitis B  Measles  \\\n",
              "0                62     0.01               71.279624         65.0     1154   \n",
              "1                64     0.01               73.523582         62.0      492   \n",
              "2                66     0.01               73.219243         64.0      430   \n",
              "3                69     0.01               78.184215         67.0     2787   \n",
              "4                71     0.01                7.097109         68.0     3013   \n",
              "...             ...      ...                     ...          ...      ...   \n",
              "2933             27     4.36                0.000000         68.0       31   \n",
              "2934             26     4.06                0.000000          7.0      998   \n",
              "2935             25     4.43                0.000000         73.0      304   \n",
              "2936             25     1.72                0.000000         76.0      529   \n",
              "2937             24     1.68                0.000000         79.0     1483   \n",
              "\n",
              "      ...  Polio  Total expenditure  Diphtheria  HIV/AIDS         GDP  \\\n",
              "0     ...    6.0               8.16        65.0       0.1  584.259210   \n",
              "1     ...   58.0               8.18        62.0       0.1  612.696514   \n",
              "2     ...   62.0               8.13        64.0       0.1  631.744976   \n",
              "3     ...   67.0               8.52        67.0       0.1  669.959000   \n",
              "4     ...   68.0               7.87        68.0       0.1   63.537231   \n",
              "...   ...    ...                ...         ...       ...         ...   \n",
              "2933  ...   67.0               7.13        65.0      33.6  454.366654   \n",
              "2934  ...    7.0               6.52        68.0      36.7  453.351155   \n",
              "2935  ...   73.0               6.53        71.0      39.8   57.348340   \n",
              "2936  ...   76.0               6.16        75.0      42.1  548.587312   \n",
              "2937  ...   78.0               7.10        78.0      43.5  547.358878   \n",
              "\n",
              "      Population  thinness 1-19 years  thinness 5-9 years  \\\n",
              "0     33736494.0                 17.2                17.3   \n",
              "1       327582.0                 17.5                17.5   \n",
              "2     31731688.0                 17.7                17.7   \n",
              "3      3696958.0                 17.9                18.0   \n",
              "4      2978599.0                 18.2                18.2   \n",
              "...          ...                  ...                 ...   \n",
              "2933  12777511.0                  9.4                 9.4   \n",
              "2934  12633897.0                  9.8                 9.9   \n",
              "2935    125525.0                  1.2                 1.3   \n",
              "2936  12366165.0                  1.6                 1.7   \n",
              "2937  12222251.0                 11.0                11.2   \n",
              "\n",
              "      Income composition of resources  Schooling  \n",
              "0                               0.479       10.1  \n",
              "1                               0.476       10.0  \n",
              "2                               0.470        9.9  \n",
              "3                               0.463        9.8  \n",
              "4                               0.454        9.5  \n",
              "...                               ...        ...  \n",
              "2933                            0.407        9.2  \n",
              "2934                            0.418        9.5  \n",
              "2935                            0.427       10.0  \n",
              "2936                            0.427        9.8  \n",
              "2937                            0.434        9.8  \n",
              "\n",
              "[2938 rows x 22 columns]"
            ]
          },
          "execution_count": 2,
          "metadata": {},
          "output_type": "execute_result"
        }
      ],
      "source": [
        "df = pd.read_csv(\"https://raw.githubusercontent.com/marianopolis-ai/workshop-code/master/6-pandas-sklearn-who/life_expectancy_data.csv\")\n",
        "df"
      ]
    },
    {
      "cell_type": "markdown",
      "metadata": {
        "id": "fX7Dmjs1VIXM"
      },
      "source": [
        "The following code verifies if there is missing values in the dataframe."
      ]
    },
    {
      "cell_type": "code",
      "execution_count": 22,
      "metadata": {
        "colab": {
          "base_uri": "https://localhost:8080/"
        },
        "id": "CQxcGnNKnjDc",
        "outputId": "02e974aa-2a8a-42d3-9932-f5933d291b0c"
      },
      "outputs": [
        {
          "data": {
            "text/plain": [
              "Country                              0\n",
              "Year                                 0\n",
              "Status                               0\n",
              "Life expectancy                     10\n",
              "Adult Mortality                     10\n",
              "infant deaths                        0\n",
              "Alcohol                            194\n",
              "percentage expenditure               0\n",
              "Hepatitis B                        553\n",
              "Measles                              0\n",
              "BMI                                 34\n",
              "under-five deaths                    0\n",
              "Polio                               19\n",
              "Total expenditure                  226\n",
              "Diphtheria                          19\n",
              "HIV/AIDS                             0\n",
              "GDP                                448\n",
              "Population                         652\n",
              "thinness 1-19 years                 34\n",
              "thinness 5-9 years                  34\n",
              "Income composition of resources    167\n",
              "Schooling                          163\n",
              "dtype: int64"
            ]
          },
          "execution_count": 22,
          "metadata": {},
          "output_type": "execute_result"
        }
      ],
      "source": [
        "df.isna().sum()"
      ]
    },
    {
      "cell_type": "markdown",
      "metadata": {
        "id": "ChtUG7P2VqgM"
      },
      "source": [
        "We can see that there is a lot of missing values in many columns. For example, there are 194 missing values in the 'Alcohol' column."
      ]
    },
    {
      "cell_type": "markdown",
      "metadata": {
        "id": "ULRM1yssXUuJ"
      },
      "source": [
        "The following code deletes/drops the rows that have missing values. "
      ]
    },
    {
      "cell_type": "code",
      "execution_count": 23,
      "metadata": {
        "colab": {
          "base_uri": "https://localhost:8080/"
        },
        "id": "9v6ankGJmumk",
        "outputId": "e2bdb46e-3be7-42bf-f1a0-5272a1a86507"
      },
      "outputs": [
        {
          "data": {
            "text/plain": [
              "Country                            0\n",
              "Year                               0\n",
              "Status                             0\n",
              "Life expectancy                    0\n",
              "Adult Mortality                    0\n",
              "infant deaths                      0\n",
              "Alcohol                            0\n",
              "percentage expenditure             0\n",
              "Hepatitis B                        0\n",
              "Measles                            0\n",
              "BMI                                0\n",
              "under-five deaths                  0\n",
              "Polio                              0\n",
              "Total expenditure                  0\n",
              "Diphtheria                         0\n",
              "HIV/AIDS                           0\n",
              "GDP                                0\n",
              "Population                         0\n",
              "thinness 1-19 years                0\n",
              "thinness 5-9 years                 0\n",
              "Income composition of resources    0\n",
              "Schooling                          0\n",
              "dtype: int64"
            ]
          },
          "execution_count": 23,
          "metadata": {},
          "output_type": "execute_result"
        }
      ],
      "source": [
        "df = df.dropna()\n",
        "df.isna().sum()"
      ]
    },
    {
      "cell_type": "markdown",
      "metadata": {
        "id": "P54D5AP1XZaI"
      },
      "source": [
        "As we can see, there is no missing values left. "
      ]
    },
    {
      "cell_type": "markdown",
      "metadata": {
        "id": "dM79cVAZXo_R"
      },
      "source": [
        "Now, it is time to drop the columns that we don't need. The 'Country', 'Year', and 'Status' columns are not relevant for Linear Regression  as they are categorical values. We can therefore drop them."
      ]
    },
    {
      "cell_type": "code",
      "execution_count": 24,
      "metadata": {
        "id": "J_EvMX5biB3J"
      },
      "outputs": [],
      "source": [
        "data = df.drop(columns=[\"Country\", \"Year\", \"Status\"])"
      ]
    },
    {
      "cell_type": "markdown",
      "metadata": {
        "id": "5jvuwj3dYwTH"
      },
      "source": [
        "Now, we can take the 'Life expectancy' column seperatly, and store it in **y**."
      ]
    },
    {
      "cell_type": "code",
      "execution_count": 25,
      "metadata": {
        "colab": {
          "base_uri": "https://localhost:8080/"
        },
        "id": "VaoiES-4kkLa",
        "outputId": "23adafc7-b6d6-4fb6-b67a-e69f1bdbcde2"
      },
      "outputs": [
        {
          "data": {
            "text/plain": [
              "0       65.0\n",
              "1       59.9\n",
              "2       59.9\n",
              "3       59.5\n",
              "4       59.2\n",
              "        ... \n",
              "2933    44.3\n",
              "2934    44.5\n",
              "2935    44.8\n",
              "2936    45.3\n",
              "2937    46.0\n",
              "Name: Life expectancy, Length: 1649, dtype: float64"
            ]
          },
          "execution_count": 25,
          "metadata": {},
          "output_type": "execute_result"
        }
      ],
      "source": [
        "y = df['Life expectancy']\n",
        "y"
      ]
    },
    {
      "cell_type": "markdown",
      "metadata": {
        "id": "O8LR_9kEZVZO"
      },
      "source": [
        "For the rest of remaining columns, we can store them as **x**."
      ]
    },
    {
      "cell_type": "code",
      "execution_count": 26,
      "metadata": {
        "colab": {
          "base_uri": "https://localhost:8080/",
          "height": 492
        },
        "id": "MXHGEoHakCuN",
        "outputId": "b66ab0cc-1423-4d4d-8c5a-ae88d68a8840"
      },
      "outputs": [
        {
          "data": {
            "text/html": [
              "<div>\n",
              "<style scoped>\n",
              "    .dataframe tbody tr th:only-of-type {\n",
              "        vertical-align: middle;\n",
              "    }\n",
              "\n",
              "    .dataframe tbody tr th {\n",
              "        vertical-align: top;\n",
              "    }\n",
              "\n",
              "    .dataframe thead th {\n",
              "        text-align: right;\n",
              "    }\n",
              "</style>\n",
              "<table border=\"1\" class=\"dataframe\">\n",
              "  <thead>\n",
              "    <tr style=\"text-align: right;\">\n",
              "      <th></th>\n",
              "      <th>Adult Mortality</th>\n",
              "      <th>infant deaths</th>\n",
              "      <th>Alcohol</th>\n",
              "      <th>percentage expenditure</th>\n",
              "      <th>Hepatitis B</th>\n",
              "      <th>Measles</th>\n",
              "      <th>BMI</th>\n",
              "      <th>under-five deaths</th>\n",
              "      <th>Polio</th>\n",
              "      <th>Total expenditure</th>\n",
              "      <th>Diphtheria</th>\n",
              "      <th>HIV/AIDS</th>\n",
              "      <th>GDP</th>\n",
              "      <th>Population</th>\n",
              "      <th>thinness 1-19 years</th>\n",
              "      <th>thinness 5-9 years</th>\n",
              "      <th>Income composition of resources</th>\n",
              "      <th>Schooling</th>\n",
              "    </tr>\n",
              "  </thead>\n",
              "  <tbody>\n",
              "    <tr>\n",
              "      <th>0</th>\n",
              "      <td>263.0</td>\n",
              "      <td>62</td>\n",
              "      <td>0.01</td>\n",
              "      <td>71.279624</td>\n",
              "      <td>65.0</td>\n",
              "      <td>1154</td>\n",
              "      <td>19.1</td>\n",
              "      <td>83</td>\n",
              "      <td>6.0</td>\n",
              "      <td>8.16</td>\n",
              "      <td>65.0</td>\n",
              "      <td>0.1</td>\n",
              "      <td>584.259210</td>\n",
              "      <td>33736494.0</td>\n",
              "      <td>17.2</td>\n",
              "      <td>17.3</td>\n",
              "      <td>0.479</td>\n",
              "      <td>10.1</td>\n",
              "    </tr>\n",
              "    <tr>\n",
              "      <th>1</th>\n",
              "      <td>271.0</td>\n",
              "      <td>64</td>\n",
              "      <td>0.01</td>\n",
              "      <td>73.523582</td>\n",
              "      <td>62.0</td>\n",
              "      <td>492</td>\n",
              "      <td>18.6</td>\n",
              "      <td>86</td>\n",
              "      <td>58.0</td>\n",
              "      <td>8.18</td>\n",
              "      <td>62.0</td>\n",
              "      <td>0.1</td>\n",
              "      <td>612.696514</td>\n",
              "      <td>327582.0</td>\n",
              "      <td>17.5</td>\n",
              "      <td>17.5</td>\n",
              "      <td>0.476</td>\n",
              "      <td>10.0</td>\n",
              "    </tr>\n",
              "    <tr>\n",
              "      <th>2</th>\n",
              "      <td>268.0</td>\n",
              "      <td>66</td>\n",
              "      <td>0.01</td>\n",
              "      <td>73.219243</td>\n",
              "      <td>64.0</td>\n",
              "      <td>430</td>\n",
              "      <td>18.1</td>\n",
              "      <td>89</td>\n",
              "      <td>62.0</td>\n",
              "      <td>8.13</td>\n",
              "      <td>64.0</td>\n",
              "      <td>0.1</td>\n",
              "      <td>631.744976</td>\n",
              "      <td>31731688.0</td>\n",
              "      <td>17.7</td>\n",
              "      <td>17.7</td>\n",
              "      <td>0.470</td>\n",
              "      <td>9.9</td>\n",
              "    </tr>\n",
              "    <tr>\n",
              "      <th>3</th>\n",
              "      <td>272.0</td>\n",
              "      <td>69</td>\n",
              "      <td>0.01</td>\n",
              "      <td>78.184215</td>\n",
              "      <td>67.0</td>\n",
              "      <td>2787</td>\n",
              "      <td>17.6</td>\n",
              "      <td>93</td>\n",
              "      <td>67.0</td>\n",
              "      <td>8.52</td>\n",
              "      <td>67.0</td>\n",
              "      <td>0.1</td>\n",
              "      <td>669.959000</td>\n",
              "      <td>3696958.0</td>\n",
              "      <td>17.9</td>\n",
              "      <td>18.0</td>\n",
              "      <td>0.463</td>\n",
              "      <td>9.8</td>\n",
              "    </tr>\n",
              "    <tr>\n",
              "      <th>4</th>\n",
              "      <td>275.0</td>\n",
              "      <td>71</td>\n",
              "      <td>0.01</td>\n",
              "      <td>7.097109</td>\n",
              "      <td>68.0</td>\n",
              "      <td>3013</td>\n",
              "      <td>17.2</td>\n",
              "      <td>97</td>\n",
              "      <td>68.0</td>\n",
              "      <td>7.87</td>\n",
              "      <td>68.0</td>\n",
              "      <td>0.1</td>\n",
              "      <td>63.537231</td>\n",
              "      <td>2978599.0</td>\n",
              "      <td>18.2</td>\n",
              "      <td>18.2</td>\n",
              "      <td>0.454</td>\n",
              "      <td>9.5</td>\n",
              "    </tr>\n",
              "    <tr>\n",
              "      <th>...</th>\n",
              "      <td>...</td>\n",
              "      <td>...</td>\n",
              "      <td>...</td>\n",
              "      <td>...</td>\n",
              "      <td>...</td>\n",
              "      <td>...</td>\n",
              "      <td>...</td>\n",
              "      <td>...</td>\n",
              "      <td>...</td>\n",
              "      <td>...</td>\n",
              "      <td>...</td>\n",
              "      <td>...</td>\n",
              "      <td>...</td>\n",
              "      <td>...</td>\n",
              "      <td>...</td>\n",
              "      <td>...</td>\n",
              "      <td>...</td>\n",
              "      <td>...</td>\n",
              "    </tr>\n",
              "    <tr>\n",
              "      <th>2933</th>\n",
              "      <td>723.0</td>\n",
              "      <td>27</td>\n",
              "      <td>4.36</td>\n",
              "      <td>0.000000</td>\n",
              "      <td>68.0</td>\n",
              "      <td>31</td>\n",
              "      <td>27.1</td>\n",
              "      <td>42</td>\n",
              "      <td>67.0</td>\n",
              "      <td>7.13</td>\n",
              "      <td>65.0</td>\n",
              "      <td>33.6</td>\n",
              "      <td>454.366654</td>\n",
              "      <td>12777511.0</td>\n",
              "      <td>9.4</td>\n",
              "      <td>9.4</td>\n",
              "      <td>0.407</td>\n",
              "      <td>9.2</td>\n",
              "    </tr>\n",
              "    <tr>\n",
              "      <th>2934</th>\n",
              "      <td>715.0</td>\n",
              "      <td>26</td>\n",
              "      <td>4.06</td>\n",
              "      <td>0.000000</td>\n",
              "      <td>7.0</td>\n",
              "      <td>998</td>\n",
              "      <td>26.7</td>\n",
              "      <td>41</td>\n",
              "      <td>7.0</td>\n",
              "      <td>6.52</td>\n",
              "      <td>68.0</td>\n",
              "      <td>36.7</td>\n",
              "      <td>453.351155</td>\n",
              "      <td>12633897.0</td>\n",
              "      <td>9.8</td>\n",
              "      <td>9.9</td>\n",
              "      <td>0.418</td>\n",
              "      <td>9.5</td>\n",
              "    </tr>\n",
              "    <tr>\n",
              "      <th>2935</th>\n",
              "      <td>73.0</td>\n",
              "      <td>25</td>\n",
              "      <td>4.43</td>\n",
              "      <td>0.000000</td>\n",
              "      <td>73.0</td>\n",
              "      <td>304</td>\n",
              "      <td>26.3</td>\n",
              "      <td>40</td>\n",
              "      <td>73.0</td>\n",
              "      <td>6.53</td>\n",
              "      <td>71.0</td>\n",
              "      <td>39.8</td>\n",
              "      <td>57.348340</td>\n",
              "      <td>125525.0</td>\n",
              "      <td>1.2</td>\n",
              "      <td>1.3</td>\n",
              "      <td>0.427</td>\n",
              "      <td>10.0</td>\n",
              "    </tr>\n",
              "    <tr>\n",
              "      <th>2936</th>\n",
              "      <td>686.0</td>\n",
              "      <td>25</td>\n",
              "      <td>1.72</td>\n",
              "      <td>0.000000</td>\n",
              "      <td>76.0</td>\n",
              "      <td>529</td>\n",
              "      <td>25.9</td>\n",
              "      <td>39</td>\n",
              "      <td>76.0</td>\n",
              "      <td>6.16</td>\n",
              "      <td>75.0</td>\n",
              "      <td>42.1</td>\n",
              "      <td>548.587312</td>\n",
              "      <td>12366165.0</td>\n",
              "      <td>1.6</td>\n",
              "      <td>1.7</td>\n",
              "      <td>0.427</td>\n",
              "      <td>9.8</td>\n",
              "    </tr>\n",
              "    <tr>\n",
              "      <th>2937</th>\n",
              "      <td>665.0</td>\n",
              "      <td>24</td>\n",
              "      <td>1.68</td>\n",
              "      <td>0.000000</td>\n",
              "      <td>79.0</td>\n",
              "      <td>1483</td>\n",
              "      <td>25.5</td>\n",
              "      <td>39</td>\n",
              "      <td>78.0</td>\n",
              "      <td>7.10</td>\n",
              "      <td>78.0</td>\n",
              "      <td>43.5</td>\n",
              "      <td>547.358879</td>\n",
              "      <td>12222251.0</td>\n",
              "      <td>11.0</td>\n",
              "      <td>11.2</td>\n",
              "      <td>0.434</td>\n",
              "      <td>9.8</td>\n",
              "    </tr>\n",
              "  </tbody>\n",
              "</table>\n",
              "<p>1649 rows × 18 columns</p>\n",
              "</div>"
            ],
            "text/plain": [
              "      Adult Mortality  ...  Schooling\n",
              "0               263.0  ...       10.1\n",
              "1               271.0  ...       10.0\n",
              "2               268.0  ...        9.9\n",
              "3               272.0  ...        9.8\n",
              "4               275.0  ...        9.5\n",
              "...               ...  ...        ...\n",
              "2933            723.0  ...        9.2\n",
              "2934            715.0  ...        9.5\n",
              "2935             73.0  ...       10.0\n",
              "2936            686.0  ...        9.8\n",
              "2937            665.0  ...        9.8\n",
              "\n",
              "[1649 rows x 18 columns]"
            ]
          },
          "execution_count": 26,
          "metadata": {},
          "output_type": "execute_result"
        }
      ],
      "source": [
        "x = data.drop(columns=[\"Life expectancy\"])\n",
        "x"
      ]
    },
    {
      "cell_type": "markdown",
      "metadata": {
        "id": "i_IusAj2Zo-z"
      },
      "source": [
        "We are now done with cleaning the dataframe."
      ]
    },
    {
      "cell_type": "markdown",
      "metadata": {
        "id": "a9F_iD67ZgQ_"
      },
      "source": [
        "##Scikitlearn"
      ]
    },
    {
      "cell_type": "markdown",
      "metadata": {
        "id": "vKm4Btt-aJJ2"
      },
      "source": [
        "Everytime we create a model, we want to evaluate its performance . To do so, we will be using a train-test split. The model will only learn from train\n",
        "It will be evaluated on test. \n",
        "\n",
        "We can import a method that splits our data into train, and test from sklearn. The test_size parameter indicates the percentage of the data that will be put into test.\n"
      ]
    },
    {
      "cell_type": "code",
      "execution_count": 27,
      "metadata": {
        "id": "mgIR8n1LjIzc"
      },
      "outputs": [],
      "source": [
        "from sklearn.model_selection import train_test_split\n",
        "\n",
        "x_train, x_test, y_train, y_test = train_test_split(x,y,test_size = 0.2)\n"
      ]
    },
    {
      "cell_type": "markdown",
      "metadata": {
        "id": "MPlVrapIckeD"
      },
      "source": [
        "We can check the shape of x_train, y_train, x_test, and y_test to see if everything seems ok. "
      ]
    },
    {
      "cell_type": "code",
      "execution_count": 28,
      "metadata": {
        "colab": {
          "base_uri": "https://localhost:8080/"
        },
        "id": "31khYkdvowWJ",
        "outputId": "24806035-dc20-446b-e8f2-3b14d4b2ead2"
      },
      "outputs": [
        {
          "data": {
            "text/plain": [
              "(1319, 18)"
            ]
          },
          "execution_count": 28,
          "metadata": {},
          "output_type": "execute_result"
        }
      ],
      "source": [
        "x_train.shape"
      ]
    },
    {
      "cell_type": "code",
      "execution_count": 29,
      "metadata": {
        "colab": {
          "base_uri": "https://localhost:8080/"
        },
        "id": "wPTBWgBRoy06",
        "outputId": "e340cd1d-b106-43ab-b8b6-11153aa895a0"
      },
      "outputs": [
        {
          "data": {
            "text/plain": [
              "(1319,)"
            ]
          },
          "execution_count": 29,
          "metadata": {},
          "output_type": "execute_result"
        }
      ],
      "source": [
        "y_train.shape"
      ]
    },
    {
      "cell_type": "code",
      "execution_count": 30,
      "metadata": {
        "colab": {
          "base_uri": "https://localhost:8080/"
        },
        "id": "frZY6IEJo5Mg",
        "outputId": "db9049cf-e6c0-4bd6-cc0a-e2547ca154b9"
      },
      "outputs": [
        {
          "data": {
            "text/plain": [
              "(330, 18)"
            ]
          },
          "execution_count": 30,
          "metadata": {},
          "output_type": "execute_result"
        }
      ],
      "source": [
        "x_test.shape"
      ]
    },
    {
      "cell_type": "code",
      "execution_count": 31,
      "metadata": {
        "colab": {
          "base_uri": "https://localhost:8080/"
        },
        "id": "Vakw_bY6o61B",
        "outputId": "0e972a45-96b0-4d30-bfb8-73c5e7a327e4"
      },
      "outputs": [
        {
          "data": {
            "text/plain": [
              "(330,)"
            ]
          },
          "execution_count": 31,
          "metadata": {},
          "output_type": "execute_result"
        }
      ],
      "source": [
        "y_test.shape"
      ]
    },
    {
      "cell_type": "markdown",
      "metadata": {
        "id": "wRGLrhpGc4KE"
      },
      "source": [
        "The next step is to use a Linear Regression model. Fortunatly, we don't need to understand all the math behind Linear Regression at the moment, because we can just import a Linear Regression model from scikitlearn.\n",
        "\n",
        "We can use model.fit to train the model using x_train, and y_train as parameters. "
      ]
    },
    {
      "cell_type": "code",
      "execution_count": 32,
      "metadata": {
        "colab": {
          "base_uri": "https://localhost:8080/"
        },
        "id": "MLI38lPEo9op",
        "outputId": "b16538b4-1cc4-4870-e5c0-4a88d169bdfb"
      },
      "outputs": [
        {
          "data": {
            "text/plain": [
              "LinearRegression()"
            ]
          },
          "execution_count": 32,
          "metadata": {},
          "output_type": "execute_result"
        }
      ],
      "source": [
        "from sklearn.linear_model import LinearRegression\n",
        "model = LinearRegression()\n",
        "model.fit(x_train,y_train)"
      ]
    },
    {
      "cell_type": "markdown",
      "metadata": {
        "id": "skMrhFu1d0O1"
      },
      "source": [
        "Next, we can use the newly trained model to predict the values of x_test."
      ]
    },
    {
      "cell_type": "code",
      "execution_count": 33,
      "metadata": {
        "colab": {
          "base_uri": "https://localhost:8080/"
        },
        "id": "eMAQqT8kpcoZ",
        "outputId": "3d7391c7-b933-4f73-9f47-49d0c0687626"
      },
      "outputs": [
        {
          "data": {
            "text/plain": [
              "array([75.99792761, 74.24549023, 64.44465596, 66.40261464, 71.25047896,\n",
              "       69.07669055, 60.24319321, 78.47490936, 62.98969763, 63.08603662,\n",
              "       67.07935249, 72.33209782, 76.32292016, 73.3802082 , 67.37506863,\n",
              "       70.55768806, 81.62932251, 61.50733089, 72.32162195, 77.05723097,\n",
              "       72.25001049, 46.12262338, 64.21434061, 52.85871237, 76.5985881 ,\n",
              "       65.3877695 , 65.36649106, 52.41387319, 67.75765951, 65.33363633,\n",
              "       53.37502132, 70.46241841, 74.80623667, 71.43106124, 60.03054343,\n",
              "       73.7883216 , 81.77848448, 75.81885598, 74.06764971, 70.90250889,\n",
              "       71.2982821 , 61.68546247, 72.35543516, 71.81649213, 72.15961581,\n",
              "       77.43755177, 66.3415542 , 69.19456772, 69.67992307, 73.51431136,\n",
              "       72.34333042, 76.46439555, 69.71415144, 71.24778754, 84.52786913,\n",
              "       65.26870828, 77.58876993, 56.66774691, 73.67612189, 78.89285515,\n",
              "       78.53646611, 66.78479387, 57.63686555, 60.40434785, 67.77561709,\n",
              "       60.77442891, 51.91319972, 64.50178668, 74.44831011, 62.9160207 ,\n",
              "       76.90723891, 73.39667504, 79.265602  , 79.67588219, 72.54065308,\n",
              "       70.17939849, 79.26330594, 48.1967436 , 62.35536687, 65.73025433,\n",
              "       73.78627106, 76.07096555, 71.61571634, 40.12393218, 73.19591346,\n",
              "       73.54706415, 66.74095195, 54.16756208, 58.69952633, 66.65210486,\n",
              "       62.59892202, 63.07398716, 78.49902803, 48.00333879, 68.83867838,\n",
              "       81.02865669, 69.70769064, 71.82186297, 71.5146052 , 63.59553524,\n",
              "       60.55915749, 72.60668308, 59.01129135, 82.28570987, 75.54559825,\n",
              "       72.59613119, 73.47296899, 76.77353708, 78.55239777, 64.9469087 ,\n",
              "       60.37316101, 63.10326002, 80.79375604, 70.661427  , 51.64340718,\n",
              "       60.82367161, 82.1199818 , 59.65165051, 71.45690959, 76.72934115,\n",
              "       75.31634948, 69.57104856, 76.88847026, 79.32847258, 74.46720994,\n",
              "       70.47978209, 66.47759353, 68.71140182, 74.2395316 , 69.06606451,\n",
              "       70.47209939, 69.99730958, 73.34729146, 82.42477981, 61.83231912,\n",
              "       72.47156776, 70.19248385, 70.95469021, 62.19689493, 70.94058513,\n",
              "       73.28090908, 65.79345265, 51.50166646, 69.2643416 , 75.13391964,\n",
              "       66.90024811, 50.62885433, 73.08589169, 57.29816573, 75.23068128,\n",
              "       67.70844526, 75.7105327 , 70.39391265, 74.46764214, 71.26948541,\n",
              "       71.72695012, 67.72445936, 76.93511428, 73.92183291, 73.018634  ,\n",
              "       81.03989527, 60.44574123, 65.39739227, 72.80174455, 75.89249435,\n",
              "       68.24837984, 74.32901751, 74.08629445, 50.87893301, 66.90891556,\n",
              "       73.6490506 , 69.20671635, 80.38704418, 77.07826033, 53.58500156,\n",
              "       66.1341148 , 60.69945707, 69.31198172, 53.14994296, 66.69489123,\n",
              "       64.91142449, 66.97436536, 56.63590914, 81.56176844, 49.25683772,\n",
              "       82.88053991, 76.84461955, 77.68761184, 75.61222776, 77.95249749,\n",
              "       72.52701568, 62.4644999 , 72.54455209, 66.6837304 , 67.12411302,\n",
              "       69.50223212, 70.31822742, 81.95322634, 73.36674293, 61.35858304,\n",
              "       62.42137596, 69.6388334 , 73.71390722, 69.43215938, 74.13443244,\n",
              "       68.88602286, 70.80664769, 75.20965069, 70.67764314, 80.19391283,\n",
              "       67.58675199, 54.99368895, 67.85916734, 57.97106029, 73.19989782,\n",
              "       65.82323539, 83.30703663, 79.91971451, 74.93129514, 68.79052405,\n",
              "       61.99982504, 71.72185367, 52.61670088, 67.02190773, 64.73538713,\n",
              "       72.00482093, 82.89766479, 77.63542289, 69.4989619 , 57.49379814,\n",
              "       68.95227228, 60.02026798, 72.58309827, 66.87244448, 69.92396673,\n",
              "       73.16094565, 64.58553973, 63.86569806, 59.6418289 , 78.98054006,\n",
              "       77.18615423, 66.6491557 , 81.1134502 , 59.37156738, 44.69921283,\n",
              "       69.27724227, 67.58991907, 69.06719958, 72.88783046, 69.7221849 ,\n",
              "       69.39487801, 69.42041513, 72.29670868, 80.06976759, 70.94895122,\n",
              "       71.73303206, 73.18811019, 70.59041549, 57.46918454, 73.58859734,\n",
              "       72.89706678, 66.56362139, 61.55035489, 68.32116688, 79.2746903 ,\n",
              "       61.91431272, 71.56649841, 72.26691968, 73.48579815, 73.64899351,\n",
              "       55.7011547 , 78.42977858, 77.62012491, 57.70186976, 62.78727544,\n",
              "       63.76939285, 78.40130834, 61.98053189, 43.00905097, 69.14235748,\n",
              "       66.3032948 , 84.09853657, 77.58556623, 57.04811537, 58.19860697,\n",
              "       67.28818734, 71.01715054, 72.07434367, 70.89717735, 73.56014717,\n",
              "       72.69456095, 71.89735273, 68.35548994, 60.38307244, 78.94437649,\n",
              "       50.13457035, 78.3990311 , 73.46562042, 55.89942065, 45.37229676,\n",
              "       65.32098986, 71.80323395, 73.05241223, 59.91913316, 76.79472594,\n",
              "       58.64377815, 57.68843645, 62.36132141, 57.33225914, 63.50055355,\n",
              "       59.08559891, 76.00044115, 75.54277998, 73.08853285, 68.99631094,\n",
              "       74.09796606, 73.02810015, 71.05551993, 72.26350602, 60.24958248,\n",
              "       78.63366076, 46.52412156, 78.38730199, 58.94070558, 74.63651972,\n",
              "       63.26925308, 61.44817331, 78.14390416, 72.60956806, 61.05945297])"
            ]
          },
          "execution_count": 33,
          "metadata": {},
          "output_type": "execute_result"
        }
      ],
      "source": [
        "preds = model.predict(x_test)\n",
        "preds"
      ]
    },
    {
      "cell_type": "markdown",
      "metadata": {
        "id": "CQSLs3End_GF"
      },
      "source": [
        "Using the mean_squared_error, we can quantify the error of the predicted values (preds) by comparing it with y_test.\n",
        "\n",
        "We can also calculate its RMSE (which is simply the root of the MSE, to get a more accurate picture of our deviation)\n",
        "\n",
        "Finally, we'll calculate the MAE (mean absolute error), and the MA%E (mean absolute percent error)\n",
        "\n",
        "The MAE is the mean of the absolute values of y_test - y_pred for every y_test, y_pred.\n",
        "\n",
        "Here are all the links you need:\n",
        "- [MAE](https://scikit-learn.org/stable/modules/generated/sklearn.metrics.mean_absolute_error.html?highlight=mean_absolute_error#sklearn.metrics.mean_absolute_error)\n",
        "- [MSE](https://scikit-learn.org/stable/modules/generated/sklearn.metrics.mean_squared_error.html?highlight=mean_squared_error#sklearn.metrics.mean_squared_error)\n",
        "- RMSE : simply take the sqrt of the MSE by doing `mse ** 0.5`"
      ]
    },
    {
      "cell_type": "code",
      "execution_count": 44,
      "metadata": {
        "colab": {
          "base_uri": "https://localhost:8080/"
        },
        "id": "pzkNk8sZpmu6",
        "outputId": "67b75993-4786-4579-9605-f6ad293a3ebe"
      },
      "outputs": [
        {
          "name": "stdout",
          "output_type": "stream",
          "text": [
            "MSE : 12.738180233827006\n",
            "RMSE: 3.5690587321907445\n",
            "MAE : 2.7467919398586913\n"
          ]
        }
      ],
      "source": [
        "from sklearn.metrics import mean_squared_error, mean_absolute_error, mean_absolute_percentage_error\n",
        "mse = mean_squared_error(y_test,preds)\n",
        "rmse = mse ** 0.5\n",
        "mae = mean_absolute_error(y_test,preds)\n",
        "print(f\"MSE : {mse}\")\n",
        "print(f\"RMSE: {rmse}\")\n",
        "print(f\"MAE : {mae}\")"
      ]
    },
    {
      "cell_type": "markdown",
      "metadata": {
        "id": "tFDoZkqCezDE"
      },
      "source": [
        "Use the matplotlib library to see how the model predicts the data visually. \n",
        "- We start by storing the index of a stored the array of **preds**. \n",
        "- Next, we plot our predictions in a sorted matter.\n",
        "- The actual y values will also be plotted in the indexes being in the same order of preds.\n",
        "\n",
        "The comparison between our prediction, and true value are shown below.\n"
      ]
    },
    {
      "cell_type": "code",
      "execution_count": 45,
      "metadata": {
        "colab": {
          "base_uri": "https://localhost:8080/",
          "height": 281
        },
        "id": "TpLhfzK2qLFs",
        "outputId": "f701923e-54a8-42da-9527-f21b85cb7908"
      },
      "outputs": [
        {
          "data": {
            "image/png": "[encoded data removed]",
            "text/plain": [
              "<Figure size 432x288 with 1 Axes>"
            ]
          },
          "metadata": {
            "needs_background": "light"
          },
          "output_type": "display_data"
        }
      ],
      "source": [
        "import matplotlib.pyplot as plt\n",
        "import numpy as np\n",
        "inds = np.arange(0,len(preds))\n",
        "sorted_inds = np.argsort(preds)\n",
        "plt.title(\"Prediction vs Truth\")\n",
        "plt.plot(inds,preds[sorted_inds], label=\"Prediction\")\n",
        "plt.plot(inds,y_test.values[sorted_inds], label=\"Truth\")\n",
        "plt.legend()\n",
        "plt.show()"
      ]
    },
    {
      "cell_type": "markdown",
      "metadata": {
        "id": "-U9FtKkuhM-6"
      },
      "source": [
        "The last graph is the Residual Plot. The residual plot calculates the difference between the values predicted, and the true values. "
      ]
    },
    {
      "cell_type": "code",
      "execution_count": 46,
      "metadata": {
        "colab": {
          "base_uri": "https://localhost:8080/",
          "height": 281
        },
        "id": "hz2tf_c1rAdh",
        "outputId": "b0ee3dec-99e6-47ed-c041-2694bfc5f899"
      },
      "outputs": [
        {
          "data": {
            "image/png": "[encoded data removed]",
            "text/plain": [
              "<Figure size 432x288 with 1 Axes>"
            ]
          },
          "metadata": {
            "needs_background": "light"
          },
          "output_type": "display_data"
        }
      ],
      "source": [
        "residuals = y_test.values[sorted_inds]-preds[sorted_inds]\n",
        "plt.title(\"Residual Plot\")\n",
        "plt.plot(inds,residuals)\n",
        "plt.show()"
      ]
    },
    {
      "cell_type": "markdown",
      "metadata": {
        "id": "GhUMG8KVh_8N"
      },
      "source": [
        "As you can see, the difference between the predictions, and the truth ranges between -10 and 10 approximately. It is not that bad."
      ]
    },
    {
      "cell_type": "code",
      "execution_count": 47,
      "metadata": {
        "colab": {
          "base_uri": "https://localhost:8080/",
          "height": 281
        },
        "id": "2toNJFrECIo6",
        "outputId": "850ed373-7660-4596-9663-1681a82b0271"
      },
      "outputs": [
        {
          "data": {
            "image/png": "[encoded data removed]",
            "text/plain": [
              "<Figure size 432x288 with 1 Axes>"
            ]
          },
          "metadata": {
            "needs_background": "light"
          },
          "output_type": "display_data"
        }
      ],
      "source": [
        "plt.title(\"Distribution of residuals\")\n",
        "plt.hist(residuals,bins=50)\n",
        "plt.show()"
      ]
    },
    {
      "cell_type": "code",
      "execution_count": 48,
      "metadata": {
        "colab": {
          "base_uri": "https://localhost:8080/"
        },
        "id": "gnSTVzzVC9WZ",
        "outputId": "4b7c16a7-9626-4e87-d4e0-16df86ee412b"
      },
      "outputs": [
        {
          "data": {
            "text/plain": [
              "count    330.000000\n",
              "mean      -0.297468\n",
              "std        3.562042\n",
              "min      -10.859157\n",
              "25%       -2.569222\n",
              "50%       -0.209844\n",
              "75%        2.076548\n",
              "max       12.364091\n",
              "dtype: float64"
            ]
          },
          "execution_count": 48,
          "metadata": {},
          "output_type": "execute_result"
        }
      ],
      "source": [
        "pd.Series(residuals).describe()"
      ]
    },
    {
      "cell_type": "markdown",
      "metadata": {
        "id": "D87qwGxZ1UlB"
      },
      "source": [
        "# R^2 Metric\n",
        "Finally, we'll use something called the R^2 metric to measure how good our model is just by looking at a number!\\\n",
        "Find out more about it here: https://scikit-learn.org/stable/modules/generated/sklearn.metrics.r2_score.html"
      ]
    },
    {
      "cell_type": "code",
      "execution_count": 49,
      "metadata": {
        "colab": {
          "base_uri": "https://localhost:8080/"
        },
        "id": "s6y7PQVO1ewU",
        "outputId": "ea1246b3-5eee-4cd3-fd87-876df404e740"
      },
      "outputs": [
        {
          "name": "stdout",
          "output_type": "stream",
          "text": [
            "R^2 coefficient: 0.8118645794412714\n"
          ]
        }
      ],
      "source": [
        "from sklearn.metrics import r2_score\n",
        "print(f\"R^2 coefficient: {r2_score(preds,y_test)}\")"
      ]
    },
    {
      "cell_type": "markdown",
      "metadata": {
        "id": "CGEKc_UXijmM"
      },
      "source": [
        "#DONE!!!"
      ]
    }
  ],
  "metadata": {
    "colab": {
      "collapsed_sections": [],
      "name": "Pandas Sklearn (Solution Set)",
      "provenance": []
    },
    "interpreter": {
      "hash": "04320cf2cedb64c292161227e9a66589fcf15c605e04990e4742eaf887433657"
    },
    "kernelspec": {
      "display_name": "Python 3.7.7 64-bit ('ml-env': conda)",
      "name": "python3"
    },
    "language_info": {
      "codemirror_mode": {
        "name": "ipython",
        "version": 3
      },
      "file_extension": ".py",
      "mimetype": "text/x-python",
      "name": "python",
      "nbconvert_exporter": "python",
      "pygments_lexer": "ipython3",
      "version": "3.7.7"
    }
  },
  "nbformat": 4,
  "nbformat_minor": 0
}
