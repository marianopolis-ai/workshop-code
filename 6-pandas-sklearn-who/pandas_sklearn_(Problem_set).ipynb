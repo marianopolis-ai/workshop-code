{
  "nbformat": 4,
  "nbformat_minor": 0,
  "metadata": {
    "colab": {
      "name": "pandas_sklearn (Problem set)",
      "provenance": [],
      "collapsed_sections": []
    },
    "kernelspec": {
      "display_name": "Python 3",
      "name": "python3"
    },
    "language_info": {
      "name": "python"
    }
  },
  "cells": [
    {
      "cell_type": "markdown",
      "metadata": {
        "id": "ZavCANx9TR4H"
      },
      "source": [
        "#Pandas and Scikitlearn"
      ]
    },
    {
      "cell_type": "markdown",
      "metadata": {
        "id": "DGxvxgi6os1R"
      },
      "source": [
        "##Pandas"
      ]
    },
    {
      "cell_type": "markdown",
      "metadata": {
        "id": "ox8fBXGmSpQt"
      },
      "source": [
        "The first step of the project is to import numpy in your code."
      ]
    },
    {
      "cell_type": "code",
      "metadata": {
        "colab": {
          "base_uri": "https://localhost:8080/",
          "height": 35
        },
        "id": "mUlbDsZKht4m",
        "outputId": "81a6d637-8852-4fb1-8a6d-240c509fcab4"
      },
      "source": [
        "# Import pandas here :))"
      ],
      "execution_count": null,
      "outputs": [
        {
          "output_type": "execute_result",
          "data": {
            "application/vnd.google.colaboratory.intrinsic+json": {
              "type": "string"
            },
            "text/plain": [
              "'1.1.5'"
            ]
          },
          "metadata": {},
          "execution_count": 14
        }
      ]
    },
    {
      "cell_type": "markdown",
      "metadata": {
        "id": "9MIM0AYlUUhe"
      },
      "source": [
        "Then, we need a dataset to analyse our data. You can use the dataset from our github repository on life expectancy by importing it with some code.\n",
        "Use the link below: <br>\n",
        "https://raw.githubusercontent.com/marianopolis-ai/workshop-code/master/6-pandas-sklearn-who/life_expectancy_data.csv\n"
      ]
    },
    {
      "cell_type": "code",
      "metadata": {
        "id": "VSCjH8MYhwyn"
      },
      "source": [
        "# Import the data set here :D"
      ],
      "execution_count": null,
      "outputs": []
    },
    {
      "cell_type": "markdown",
      "metadata": {
        "id": "fX7Dmjs1VIXM"
      },
      "source": [
        "Verify if there is missing values in the dataframe."
      ]
    },
    {
      "cell_type": "code",
      "metadata": {
        "id": "CQxcGnNKnjDc"
      },
      "source": [
        "# Check for missing values ;)"
      ],
      "execution_count": null,
      "outputs": []
    },
    {
      "cell_type": "markdown",
      "metadata": {
        "id": "ChtUG7P2VqgM"
      },
      "source": [
        "We can see that there is a lot of missing values in many columns. For example, there are 194 missing values in the 'Alcohol' column."
      ]
    },
    {
      "cell_type": "markdown",
      "metadata": {
        "id": "ULRM1yssXUuJ"
      },
      "source": [
        "We should probably delete the rows with empty values\n"
      ]
    },
    {
      "cell_type": "code",
      "metadata": {
        "id": "9v6ankGJmumk"
      },
      "source": [
        "# Code how the incomplete row deletion here :))"
      ],
      "execution_count": null,
      "outputs": []
    },
    {
      "cell_type": "markdown",
      "metadata": {
        "id": "P54D5AP1XZaI"
      },
      "source": [
        "As we can see, there is no missing values left. "
      ]
    },
    {
      "cell_type": "markdown",
      "metadata": {
        "id": "dM79cVAZXo_R"
      },
      "source": [
        "Now, it is time to drop the columns that we don't need. The 'Country', 'Year', and 'Status' columns are not relevant for Linear Regression  as they are categorical values. We can therefore drop them."
      ]
    },
    {
      "cell_type": "code",
      "metadata": {
        "id": "J_EvMX5biB3J"
      },
      "source": [
        "# Drop the values that we don't need to examine here :D"
      ],
      "execution_count": null,
      "outputs": []
    },
    {
      "cell_type": "markdown",
      "metadata": {
        "id": "5jvuwj3dYwTH"
      },
      "source": [
        "Now, we can take the 'Life expectancy' column seperatly, and store it in **y**."
      ]
    },
    {
      "cell_type": "code",
      "metadata": {
        "id": "VaoiES-4kkLa",
        "colab": {
          "base_uri": "https://localhost:8080/"
        },
        "outputId": "63aea80b-3aaa-4c73-ec44-3ea8ef5fd128"
      },
      "source": [
        "# Store 'Life expectancy' as y here B)"
      ],
      "execution_count": null,
      "outputs": [
        {
          "output_type": "execute_result",
          "data": {
            "text/plain": [
              "0       65.0\n",
              "1       59.9\n",
              "2       59.9\n",
              "3       59.5\n",
              "4       59.2\n",
              "        ... \n",
              "2933    44.3\n",
              "2934    44.5\n",
              "2935    44.8\n",
              "2936    45.3\n",
              "2937    46.0\n",
              "Name: Life expectancy, Length: 1649, dtype: float64"
            ]
          },
          "metadata": {},
          "execution_count": 19
        }
      ]
    },
    {
      "cell_type": "markdown",
      "metadata": {
        "id": "O8LR_9kEZVZO"
      },
      "source": [
        "For the rest of remaining columns, we can store them as **x**."
      ]
    },
    {
      "cell_type": "code",
      "metadata": {
        "id": "MXHGEoHakCuN"
      },
      "source": [
        "# Store the rest of the values in x here!!"
      ],
      "execution_count": null,
      "outputs": []
    },
    {
      "cell_type": "markdown",
      "metadata": {
        "id": "i_IusAj2Zo-z"
      },
      "source": [
        "We are now done with cleaning the dataframe."
      ]
    },
    {
      "cell_type": "markdown",
      "metadata": {
        "id": "a9F_iD67ZgQ_"
      },
      "source": [
        "##Scikitlearn"
      ]
    },
    {
      "cell_type": "markdown",
      "metadata": {
        "id": "vKm4Btt-aJJ2"
      },
      "source": [
        "Everytime we create a model, we want to evaluate its performance . To do so, we will be using a train-test split. The model will only learn from train\n",
        "It will be evaluated on test. \n",
        "\n",
        "We can import a method that splits our data into train, and test from sklearn. The test_size parameter indicates the percentage of the data that will be put into test.\n"
      ]
    },
    {
      "cell_type": "code",
      "metadata": {
        "id": "mgIR8n1LjIzc"
      },
      "source": [
        "# Import scikit learn :)\n",
        "# pssst use: (from sklearn.model_selection import train_test_split)\n",
        "\n",
        "# Split your data into train_x, train_y, test_x, test_y here :]\n"
      ],
      "execution_count": null,
      "outputs": []
    },
    {
      "cell_type": "markdown",
      "metadata": {
        "id": "MPlVrapIckeD"
      },
      "source": [
        "We should check the shape of x_train, y_train, x_test, and y_test to see if everything seems ok. "
      ]
    },
    {
      "cell_type": "code",
      "metadata": {
        "id": "31khYkdvowWJ"
      },
      "source": [
        ""
      ],
      "execution_count": null,
      "outputs": []
    },
    {
      "cell_type": "code",
      "metadata": {
        "id": "wPTBWgBRoy06"
      },
      "source": [
        ""
      ],
      "execution_count": null,
      "outputs": []
    },
    {
      "cell_type": "code",
      "metadata": {
        "id": "frZY6IEJo5Mg"
      },
      "source": [
        ""
      ],
      "execution_count": null,
      "outputs": []
    },
    {
      "cell_type": "code",
      "metadata": {
        "id": "Vakw_bY6o61B"
      },
      "source": [
        ""
      ],
      "execution_count": null,
      "outputs": []
    },
    {
      "cell_type": "markdown",
      "metadata": {
        "id": "wRGLrhpGc4KE"
      },
      "source": [
        "The next step is to use a Linear Regression model. Fortunately, we don't need to understand all the math behind Linear Regression at the moment, because we can just import a Linear Regression model from scikitlearn.\n",
        "\n",
        "We can use model.fit to train the model using x_train, and y_train as parameters. "
      ]
    },
    {
      "cell_type": "code",
      "metadata": {
        "id": "MLI38lPEo9op"
      },
      "source": [
        "# Import your linear_regression model!! \n",
        "# (psst use: from sklearn.linear_model import LinearRegression)\n",
        "\n",
        "# Train it! "
      ],
      "execution_count": null,
      "outputs": []
    },
    {
      "cell_type": "markdown",
      "metadata": {
        "id": "skMrhFu1d0O1"
      },
      "source": [
        "Next, we can use the newly trained model to predict the values of x_test."
      ]
    },
    {
      "cell_type": "markdown",
      "metadata": {
        "id": "OMMfL9k4-5hj"
      },
      "source": [
        ""
      ]
    },
    {
      "cell_type": "code",
      "metadata": {
        "id": "eMAQqT8kpcoZ"
      },
      "source": [
        "# Now store the predictions of our TRAINED model here :) "
      ],
      "execution_count": null,
      "outputs": []
    },
    {
      "cell_type": "markdown",
      "metadata": {
        "id": "CQSLs3End_GF"
      },
      "source": [
        "Using different error metrics, we can quantify the error of the predicted values (preds) by comparing it with y_test. Calculate the following error metrics:\n",
        "\n",
        "- **MSE (mean squared error)**\n",
        "\n",
        "- **RMSE (which is simply the root of the MSE, to get a more accurate picture of our deviation)**\n",
        "\n",
        "- **MAE (mean absolute error)**\n",
        "\n",
        "Here are all the links you might need:\n",
        "- [MAE](https://scikit-learn.org/stable/modules/generated/sklearn.metrics.mean_absolute_error.html?highlight=mean_absolute_error#sklearn.metrics.mean_absolute_error)\n",
        "- [MSE](https://scikit-learn.org/stable/modules/generated/sklearn.metrics.mean_squared_error.html?highlight=mean_squared_error#sklearn.metrics.mean_squared_error)\n",
        "- RMSE : simply take the sqrt of the MSE by doing `mse ** 0.5`"
      ]
    },
    {
      "cell_type": "code",
      "metadata": {
        "id": "pzkNk8sZpmu6"
      },
      "source": [
        "# Let's code to calculate our error here!!\n",
        "\n",
        "# 1. pssst to get your functions use: (from sklearn.metrics import mean_squared_error, mean_absolute_error)\n",
        "\n",
        "# 2. Use mean_squared_error() to print the MSE here :]\n",
        "\n",
        "# 3. Use mean_absolute_error() to print the MAE here :))\n",
        "\n",
        "# 4. Take the root of the MSE to print the RMSE here ;]"
      ],
      "execution_count": null,
      "outputs": []
    },
    {
      "cell_type": "markdown",
      "metadata": {
        "id": "tFDoZkqCezDE"
      },
      "source": [
        "Use the matplotlib library to see how the model predicts the data visually. \n",
        "- We start by storing the index of a stored the array of **preds**. \n",
        "- Next, we plot our predictions in a sorted matter.\n",
        "- The actual y values will also be plotted in the indexes being in the same order of preds.\n",
        "\n",
        "The comparison between our prediction, and true value will be shown below.\n"
      ]
    },
    {
      "cell_type": "code",
      "metadata": {
        "id": "TpLhfzK2qLFs"
      },
      "source": [
        "# Let's do our residual plot here next [:\n",
        "\n",
        "# 1. Import numpy and matplotlib\n",
        "\n",
        "# 2. Use np.arange to make an array of integers of the length of our predictions. These will be our x values ;]\n",
        "\n",
        "# 3. Sort our predictions by our index, pssst use np.indsort ;)\n",
        "\n",
        "# 4. plot our predictions and the true values in the order of the sorted predictions !!\n"
      ],
      "execution_count": null,
      "outputs": []
    },
    {
      "cell_type": "markdown",
      "metadata": {
        "id": "-U9FtKkuhM-6"
      },
      "source": [
        "The next  graph is the Residual Plot. The residual plot calculates the difference between the values predicted, and the true values. "
      ]
    },
    {
      "cell_type": "code",
      "metadata": {
        "id": "hz2tf_c1rAdh"
      },
      "source": [
        "# 1. Get the difference squared between each prediction and real value on the same indexes (These are called residuals) :D\n",
        "\n",
        "# 2. Plot this difference. Use the index as an x value!!"
      ],
      "execution_count": null,
      "outputs": []
    },
    {
      "cell_type": "markdown",
      "metadata": {
        "id": "GhUMG8KVh_8N"
      },
      "source": [
        "Our last graph is a histogram!\n",
        "Have fun!"
      ]
    },
    {
      "cell_type": "code",
      "metadata": {
        "id": "2toNJFrECIo6"
      },
      "source": [
        "# Make a histogram of your residuals (:"
      ],
      "execution_count": null,
      "outputs": []
    },
    {
      "cell_type": "code",
      "metadata": {
        "id": "gnSTVzzVC9WZ"
      },
      "source": [
        "# Turn your residuals into a pandas series and use .describe() to get more info on your resideals :)"
      ],
      "execution_count": null,
      "outputs": []
    },
    {
      "cell_type": "markdown",
      "metadata": {
        "id": "31jm-rXJAWEc"
      },
      "source": [
        "Our last task is to calculate R^2. Import a scikit-learn function that calculates it for you here! \n",
        "\n",
        "Find more about R^2 here:\n",
        "https://scikit-learn.org/stable/modules/generated/sklearn.metrics.r2_score.html"
      ]
    },
    {
      "cell_type": "code",
      "metadata": {
        "id": "ZE4b1IdlA_j5"
      },
      "source": [
        "# pssst use: (from sklearn.metrics import r2_score) to import the functions that you need\n",
        "\n",
        "# Now print the R^2 of your model using r2_score() ;D"
      ],
      "execution_count": null,
      "outputs": []
    },
    {
      "cell_type": "markdown",
      "metadata": {
        "id": "CGEKc_UXijmM"
      },
      "source": [
        "#DONE!!!"
      ]
    }
  ]
}